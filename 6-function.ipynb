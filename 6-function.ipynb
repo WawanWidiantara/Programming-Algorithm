{
 "cells": [
  {
   "cell_type": "markdown",
   "metadata": {
    "vscode": {
     "languageId": "plaintext"
    }
   },
   "source": [
    "## Pendahuluan\n",
    "Fungsi adalah salah satu konsep dasar dalam pemrograman. Fungsi memungkinkan kita untuk membungkus blok kode yang dapat digunakan kembali di seluruh program. Fungsi memudahkan dalam memecah masalah besar menjadi bagian-bagian kecil yang lebih mudah dipahami dan dikelola.\n",
    "\n",
    "Pada notebook ini, kita akan belajar tentang fungsi dalam Python, cara mendefinisikannya, serta contoh penggunaannya.\n",
    "\n",
    "---\n",
    "\n",
    "## Apa itu Fungsi?\n",
    "\n",
    "Fungsi adalah blok kode yang dirancang untuk melakukan suatu tugas tertentu. Setelah fungsi didefinisikan, kita dapat memanggil fungsi tersebut kapan saja dalam kode kita, sehingga tidak perlu menulis ulang kode yang sama berkali-kali.\n",
    "\n",
    "### Struktur Fungsi dalam Python\n",
    "\n",
    "Struktur umum untuk mendefinisikan fungsi adalah sebagai berikut:\n",
    "\n",
    "```python\n",
    "def nama_fungsi(parameter1, parameter2):\n",
    "    # kode yang akan dijalankan\n",
    "    return hasil\n",
    "```\n",
    "\n",
    "- `def`: Keyword untuk mendefinisikan fungsi.\n",
    "- `nama_fungsi`: Nama dari fungsi yang akan dipanggil.\n",
    "- `parameter`: Variabel yang digunakan untuk menerima nilai input saat fungsi dipanggil.\n",
    "- `return`: Digunakan untuk mengembalikan nilai dari fungsi."
   ]
  },
  {
   "cell_type": "markdown",
   "metadata": {
    "vscode": {
     "languageId": "plaintext"
    }
   },
   "source": [
    "## Contoh Fungsi Sederhana\n",
    "\n",
    "Mari kita mulai dengan contoh fungsi sederhana yang tidak memiliki parameter dan tidak mengembalikan nilai."
   ]
  },
  {
   "cell_type": "code",
   "execution_count": 58,
   "metadata": {},
   "outputs": [],
   "source": [
    "def sapa():\n",
    "    print(\"Halo, selamat datang di kelas Python!\")"
   ]
  },
  {
   "cell_type": "markdown",
   "metadata": {},
   "source": [
    "Kita dapat memanggil fungsi ini dengan cara berikut:"
   ]
  },
  {
   "cell_type": "code",
   "execution_count": 59,
   "metadata": {},
   "outputs": [
    {
     "name": "stdout",
     "output_type": "stream",
     "text": [
      "Halo, selamat datang di kelas Python!\n"
     ]
    }
   ],
   "source": [
    "sapa()"
   ]
  },
  {
   "cell_type": "markdown",
   "metadata": {},
   "source": [
    "Penjelasan:\n",
    "\n",
    "- Fungsi `sapa()` hanya mencetak pesan ketika dipanggil, tanpa membutuhkan parameter atau mengembalikan nilai.\n"
   ]
  },
  {
   "cell_type": "markdown",
   "metadata": {},
   "source": [
    "---\n",
    "\n",
    "## Fungsi dengan Parameter\n",
    "\n",
    "Fungsi dapat menerima input melalui parameter. Parameter adalah nilai yang kita berikan saat memanggil fungsi untuk digunakan di dalam fungsi."
   ]
  },
  {
   "cell_type": "markdown",
   "metadata": {},
   "source": [
    "Contoh fungsi yang menerima dua parameter dan menjumlahkan keduanya:"
   ]
  },
  {
   "cell_type": "code",
   "execution_count": 60,
   "metadata": {},
   "outputs": [],
   "source": [
    "def jumlahkan(a, b):\n",
    "    return a + b"
   ]
  },
  {
   "cell_type": "markdown",
   "metadata": {},
   "source": [
    "Cara memanggil fungsi ini:"
   ]
  },
  {
   "cell_type": "code",
   "execution_count": 61,
   "metadata": {},
   "outputs": [
    {
     "name": "stdout",
     "output_type": "stream",
     "text": [
      "8\n"
     ]
    }
   ],
   "source": [
    "hasil = jumlahkan(5, 3)\n",
    "print(hasil)"
   ]
  },
  {
   "cell_type": "markdown",
   "metadata": {},
   "source": [
    "Penjelasan:\n",
    "\n",
    "- Fungsi `jumlahkan` menerima dua parameter, `a` dan `b`, dan mengembalikan hasil penjumlahannya."
   ]
  },
  {
   "cell_type": "markdown",
   "metadata": {},
   "source": [
    "---\n",
    "\n",
    "## Fungsi dengan Nilai Kembalian\n",
    "\n",
    "Fungsi dapat mengembalikan nilai setelah melakukan operasi tertentu. Nilai yang dikembalikan dapat disimpan dalam variabel untuk digunakan lebih lanjut."
   ]
  },
  {
   "cell_type": "markdown",
   "metadata": {},
   "source": [
    "Contoh:"
   ]
  },
  {
   "cell_type": "code",
   "execution_count": 62,
   "metadata": {},
   "outputs": [],
   "source": [
    "def kali(a, b):\n",
    "    return a * b"
   ]
  },
  {
   "cell_type": "markdown",
   "metadata": {},
   "source": [
    "Memanggil fungsi ini:"
   ]
  },
  {
   "cell_type": "code",
   "execution_count": 63,
   "metadata": {},
   "outputs": [
    {
     "name": "stdout",
     "output_type": "stream",
     "text": [
      "20\n"
     ]
    }
   ],
   "source": [
    "hasil = kali(4, 5)\n",
    "print(hasil)"
   ]
  },
  {
   "cell_type": "markdown",
   "metadata": {},
   "source": [
    "Penjelasan:\n",
    "\n",
    "- Fungsi `kali` mengembalikan hasil perkalian dari parameter `a` dan `b`. Nilai yang dikembalikan kemudian disimpan dalam variabel `hasil` dan dicetak ke layar."
   ]
  },
  {
   "cell_type": "markdown",
   "metadata": {},
   "source": [
    "---\n",
    "\n",
    "## Fungsi dengan Parameter Default\n",
    "\n",
    "Python juga memungkinkan kita untuk memberikan nilai default pada parameter. Jika parameter tersebut tidak diberikan saat memanggil fungsi, maka Python akan menggunakan nilai default yang sudah ditentukan."
   ]
  },
  {
   "cell_type": "markdown",
   "metadata": {},
   "source": [
    "Contoh:"
   ]
  },
  {
   "cell_type": "code",
   "execution_count": 64,
   "metadata": {},
   "outputs": [],
   "source": [
    "def halo(nama=\"Student\"):\n",
    "    print(f\"Halo, {nama}!\")"
   ]
  },
  {
   "cell_type": "markdown",
   "metadata": {},
   "source": [
    "Jika kita memanggil fungsi tanpa memberikan parameter:"
   ]
  },
  {
   "cell_type": "code",
   "execution_count": 65,
   "metadata": {},
   "outputs": [
    {
     "name": "stdout",
     "output_type": "stream",
     "text": [
      "Halo, Student!\n"
     ]
    }
   ],
   "source": [
    "halo()"
   ]
  },
  {
   "cell_type": "markdown",
   "metadata": {},
   "source": [
    "Namun, jika kita memberikan parameter:"
   ]
  },
  {
   "cell_type": "code",
   "execution_count": 66,
   "metadata": {},
   "outputs": [
    {
     "name": "stdout",
     "output_type": "stream",
     "text": [
      "Halo, Andi!\n"
     ]
    }
   ],
   "source": [
    "halo(\"Andi\")"
   ]
  },
  {
   "cell_type": "markdown",
   "metadata": {},
   "source": [
    "Penjelasan:\n",
    "\n",
    "- Fungsi `halo` memiliki parameter `nama` dengan nilai default `\"Student\"`. Jika tidak ada argumen yang diberikan, nilai default ini akan digunakan. Jika ada argumen, maka nilai yang diberikan akan digunakan."
   ]
  },
  {
   "cell_type": "markdown",
   "metadata": {},
   "source": [
    "---\n",
    "\n",
    "## Fungsi dengan Banyak Parameter\n",
    "\n",
    "Fungsi juga dapat menerima sejumlah parameter yang tidak terbatas menggunakan tanda bintang (`*`) atau dua tanda bintang (`**`)."
   ]
  },
  {
   "cell_type": "markdown",
   "metadata": {},
   "source": [
    "### 1. Fungsi dengan Parameter Posisi yang Tidak Terbatas (`*args`)\n",
    "\n",
    "Contoh:"
   ]
  },
  {
   "cell_type": "code",
   "execution_count": 67,
   "metadata": {},
   "outputs": [],
   "source": [
    "def jumlahkan_semua(*args):\n",
    "    return sum(args)"
   ]
  },
  {
   "cell_type": "markdown",
   "metadata": {},
   "source": [
    "Memanggil fungsi dengan beberapa argumen:"
   ]
  },
  {
   "cell_type": "code",
   "execution_count": 68,
   "metadata": {},
   "outputs": [
    {
     "name": "stdout",
     "output_type": "stream",
     "text": [
      "10\n"
     ]
    }
   ],
   "source": [
    "print(jumlahkan_semua(1, 2, 3, 4))"
   ]
  },
  {
   "cell_type": "markdown",
   "metadata": {},
   "source": [
    "Penjelasan:\n",
    "\n",
    "- `*args` memungkinkan kita untuk mengirimkan sejumlah argumen yang tidak terbatas, dan `sum(args)` akan menjumlahkan semua argumen yang diberikan."
   ]
  },
  {
   "cell_type": "markdown",
   "metadata": {},
   "source": [
    "---\n",
    "\n",
    "### 2. Fungsi dengan Parameter Keyword yang Tidak Terbatas (`**kwargs`)\n",
    "\n",
    "Contoh:"
   ]
  },
  {
   "cell_type": "code",
   "execution_count": 69,
   "metadata": {},
   "outputs": [],
   "source": [
    "def print_data(**kwargs):\n",
    "    for key, value in kwargs.items():\n",
    "        print(f\"{key}: {value}\")"
   ]
  },
  {
   "cell_type": "markdown",
   "metadata": {},
   "source": [
    "Memanggil fungsi dengan parameter keyword:"
   ]
  },
  {
   "cell_type": "code",
   "execution_count": 70,
   "metadata": {},
   "outputs": [
    {
     "name": "stdout",
     "output_type": "stream",
     "text": [
      "nama: Budi\n",
      "umur: 25\n",
      "kota: Jakarta\n"
     ]
    }
   ],
   "source": [
    "print_data(nama=\"Budi\", umur=25, kota=\"Jakarta\")"
   ]
  },
  {
   "cell_type": "markdown",
   "metadata": {},
   "source": [
    "Penjelasan:\n",
    "\n",
    "- `**kwargs` memungkinkan kita untuk mengirimkan parameter dalam bentuk pasangan kunci-nilai. Fungsi ini kemudian mencetak semua pasangan kunci-nilai tersebut."
   ]
  },
  {
   "cell_type": "markdown",
   "metadata": {},
   "source": [
    "--- \n",
    "\n",
    "## Fungsi dengan Lebih dari Satu Nilai Kembalian\n",
    "\n",
    "Python memungkinkan kita untuk mengembalikan lebih dari satu nilai dari sebuah fungsi dengan menggunakan tuple. Tuple adalah struktur data yang memungkinkan kita untuk mengelompokkan beberapa nilai dalam satu objek."
   ]
  },
  {
   "cell_type": "markdown",
   "metadata": {},
   "source": [
    "### Contoh Fungsi dengan Beberapa Nilai Kembalian\n",
    "\n",
    "Misalkan kita ingin membuat fungsi yang mengembalikan dua nilai: hasil penjumlahan dan hasil perkalian dari dua angka."
   ]
  },
  {
   "cell_type": "code",
   "execution_count": 71,
   "metadata": {},
   "outputs": [],
   "source": [
    "def operasi_matematika(a, b):\n",
    "    jumlah = a + b\n",
    "    kali = a * b\n",
    "    return jumlah, kali"
   ]
  },
  {
   "cell_type": "markdown",
   "metadata": {},
   "source": [
    "Cara memanggil fungsi ini dan mendapatkan kedua nilai yang dikembalikan:"
   ]
  },
  {
   "cell_type": "code",
   "execution_count": 72,
   "metadata": {},
   "outputs": [
    {
     "name": "stdout",
     "output_type": "stream",
     "text": [
      "Jumlah: 9\n",
      "Kali: 20\n"
     ]
    }
   ],
   "source": [
    "hasil_jumlah, hasil_kali = operasi_matematika(4, 5)\n",
    "print(\"Jumlah:\", hasil_jumlah)\n",
    "print(\"Kali:\", hasil_kali)"
   ]
  },
  {
   "cell_type": "markdown",
   "metadata": {},
   "source": [
    "Penjelasan:\n",
    "\n",
    "- Fungsi `operasi_matematika` mengembalikan dua nilai, yaitu `jumlah` dan `kali`. Python secara otomatis mengemas kedua nilai tersebut ke dalam sebuah tuple.\n",
    "- Saat memanggil fungsi, kita dapat \"unpack\" tuple yang dikembalikan menjadi dua variabel: `hasil_jumlah` dan `hasil_kali`."
   ]
  },
  {
   "cell_type": "markdown",
   "metadata": {},
   "source": [
    "### Contoh Lain: Fungsi yang Menghitung Luas dan Keliling Persegi Panjang"
   ]
  },
  {
   "cell_type": "code",
   "execution_count": 73,
   "metadata": {},
   "outputs": [],
   "source": [
    "def hitung_persegi_panjang(panjang, lebar):\n",
    "    luas = panjang * lebar\n",
    "    keliling = 2 * (panjang + lebar)\n",
    "    return luas, keliling"
   ]
  },
  {
   "cell_type": "markdown",
   "metadata": {},
   "source": [
    "Memanggil fungsi ini:"
   ]
  },
  {
   "cell_type": "code",
   "execution_count": 74,
   "metadata": {},
   "outputs": [
    {
     "name": "stdout",
     "output_type": "stream",
     "text": [
      "Luas: 24\n",
      "Keliling: 20\n"
     ]
    }
   ],
   "source": [
    "luas, keliling = hitung_persegi_panjang(6, 4)\n",
    "print(\"Luas:\", luas)\n",
    "print(\"Keliling:\", keliling)"
   ]
  },
  {
   "cell_type": "markdown",
   "metadata": {},
   "source": [
    "Penjelasan:\n",
    "\n",
    "- Fungsi ini mengembalikan dua nilai: `luas` dan `keliling` dari persegi panjang. Kedua nilai tersebut dikembalikan sebagai tuple dan dapat di-unpack di saat pemanggilan fungsi."
   ]
  },
  {
   "cell_type": "markdown",
   "metadata": {},
   "source": [
    "---\n",
    "\n",
    "## Fungsi Rekursif\n",
    "\n",
    "Fungsi rekursif adalah fungsi yang memanggil dirinya sendiri untuk menyelesaikan masalah. Rekursi sering digunakan untuk masalah yang dapat dibagi menjadi sub-masalah yang lebih kecil."
   ]
  },
  {
   "cell_type": "markdown",
   "metadata": {},
   "source": [
    "Contoh fungsi rekursif untuk menghitung faktorial:"
   ]
  },
  {
   "cell_type": "code",
   "execution_count": 75,
   "metadata": {},
   "outputs": [],
   "source": [
    "def faktorial(n):\n",
    "    if n == 0:\n",
    "        return 1\n",
    "    else:\n",
    "        return n * faktorial(n-1)"
   ]
  },
  {
   "cell_type": "markdown",
   "metadata": {},
   "source": [
    "Memanggil fungsi ini:"
   ]
  },
  {
   "cell_type": "code",
   "execution_count": 76,
   "metadata": {},
   "outputs": [
    {
     "name": "stdout",
     "output_type": "stream",
     "text": [
      "120\n"
     ]
    }
   ],
   "source": [
    "print(faktorial(5))"
   ]
  },
  {
   "cell_type": "markdown",
   "metadata": {},
   "source": [
    "Penjelasan:\n",
    "\n",
    "- Fungsi `faktorial` memanggil dirinya sendiri dengan mengurangi nilai `n` hingga mencapai 0, dimana ia akan mengembalikan 1. Proses ini terjadi berulang hingga menghitung faktorial dari angka yang diberikan."
   ]
  }
 ],
 "metadata": {
  "kernelspec": {
   "display_name": "alpro-env",
   "language": "python",
   "name": "python3"
  },
  "language_info": {
   "codemirror_mode": {
    "name": "ipython",
    "version": 3
   },
   "file_extension": ".py",
   "mimetype": "text/x-python",
   "name": "python",
   "nbconvert_exporter": "python",
   "pygments_lexer": "ipython3",
   "version": "3.12.7"
  }
 },
 "nbformat": 4,
 "nbformat_minor": 2
}
