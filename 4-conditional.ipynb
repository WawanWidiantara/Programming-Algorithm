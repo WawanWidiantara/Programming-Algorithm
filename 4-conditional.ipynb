{
 "cells": [
  {
   "cell_type": "markdown",
   "metadata": {},
   "source": [
    "# Conditional Statements in Python (If, Else, Elif)\n",
    "\n",
    "## 1. Apa Itu Percabangan?\n",
    "\n",
    "Percabangan adalah struktur pemrograman yang digunakan untuk membuat keputusan berdasarkan kondisi tertentu. Di Python, struktur percabgangan menggunakan kata kunci `if`, `else`, dan `elif`.\n",
    "\n",
    "### Struktur Dasar:\n",
    "\n",
    "- **if**: Mengevaluasi kondisi, dan jika kondisi tersebut bernilai `True`, blok kode di dalamnya akan dijalankan.\n",
    "- **elif**: (else if) Mengevaluasi kondisi lain jika kondisi `if` sebelumnya bernilai `False`.\n",
    "- **else**: Dijalankan jika semua kondisi di atas bernilai `False`."
   ]
  },
  {
   "cell_type": "markdown",
   "metadata": {
    "vscode": {
     "languageId": "plaintext"
    }
   },
   "source": [
    "## 2. Kondisi `if`\n",
    "\n",
    "Kondisi `if` digunakan untuk memeriksa apakah ekspresi bernilai `True`. Jika benar, blok kode di dalam `if` akan dieksekusi.\n",
    "\n",
    "### Sintaks:\n",
    "```python\n",
    "if kondisi:\n",
    "    # kode dijalankan jika kondisi True"
   ]
  },
  {
   "cell_type": "markdown",
   "metadata": {
    "vscode": {
     "languageId": "plaintext"
    }
   },
   "source": [
    "### Contoh"
   ]
  },
  {
   "cell_type": "code",
   "execution_count": 1,
   "metadata": {},
   "outputs": [
    {
     "name": "stdout",
     "output_type": "stream",
     "text": [
      "x lebih besar dari 5\n"
     ]
    }
   ],
   "source": [
    "# Contoh sederhana penggunaan if\n",
    "x = 10\n",
    "if x > 5:\n",
    "    print(\"x lebih besar dari 5\")"
   ]
  },
  {
   "cell_type": "markdown",
   "metadata": {},
   "source": [
    "## 3. Kondisi `else`\n",
    "Kondisi `else` digunakan untuk menangani semua kasus di mana kondisi `if` bernilai `False`. Blok kode di dalam `else` akan dijalankan jika kondisi pada `if` tidak terpenuhi.\n",
    "\n",
    "### Sintaks:\n",
    "```python\n",
    "if kondisi:\n",
    "    # kode dijalankan jika kondisi True\n",
    "else:\n",
    "    # kode dijalankan jika kondisi False"
   ]
  },
  {
   "cell_type": "markdown",
   "metadata": {},
   "source": [
    "### Contoh:"
   ]
  },
  {
   "cell_type": "code",
   "execution_count": 2,
   "metadata": {},
   "outputs": [
    {
     "name": "stdout",
     "output_type": "stream",
     "text": [
      "x lebih besar dari 5\n"
     ]
    }
   ],
   "source": [
    "# Contoh sederhana penggunaan if\n",
    "x = 10\n",
    "if x > 5:\n",
    "    print(\"x lebih besar dari 5\")"
   ]
  },
  {
   "cell_type": "markdown",
   "metadata": {},
   "source": [
    "## 4. Kondisi `elif`\n",
    "Kondisi `elif` memungkinkan Anda untuk memeriksa banyak kondisi berbeda. Jika kondisi `if` bernilai `False`, program akan memeriksa kondisi di `elif`. Jika semua kondisi `if` dan `elif` bernilai `False`, blok kode dalam `else` akan dijalankan.\n",
    "\n",
    "### Sintaks:\n",
    "```python\n",
    "if kondisi1:\n",
    "    # kode dijalankan jika kondisi1 True\n",
    "elif kondisi2:\n",
    "    # kode dijalankan jika kondisi2 True\n",
    "else:\n",
    "    # kode dijalankan jika semua kondisi False"
   ]
  },
  {
   "cell_type": "markdown",
   "metadata": {},
   "source": [
    "### Contoh:"
   ]
  },
  {
   "cell_type": "code",
   "execution_count": 3,
   "metadata": {},
   "outputs": [
    {
     "name": "stdout",
     "output_type": "stream",
     "text": [
      "Grade: B\n"
     ]
    }
   ],
   "source": [
    "# Contoh penggunaan if, elif, else\n",
    "nilai = 75\n",
    "\n",
    "if nilai >= 90:\n",
    "    print(\"Grade: A\")\n",
    "elif nilai >= 75:\n",
    "    print(\"Grade: B\")\n",
    "elif nilai >= 60:\n",
    "    print(\"Grade: C\")\n",
    "else:\n",
    "    print(\"Grade: D\")"
   ]
  },
  {
   "cell_type": "markdown",
   "metadata": {},
   "source": [
    "## 5. Contoh Penggunaan Bersarang (Nested Conditionals)\n",
    "Anda juga dapat menempatkan kondisi di dalam kondisi lain, yang dikenal sebagai kondisional bersarang."
   ]
  },
  {
   "cell_type": "markdown",
   "metadata": {},
   "source": [
    "### Contoh:"
   ]
  },
  {
   "cell_type": "code",
   "execution_count": 4,
   "metadata": {},
   "outputs": [
    {
     "name": "stdout",
     "output_type": "stream",
     "text": [
      "Anda mahasiswa dewasa.\n"
     ]
    }
   ],
   "source": [
    "# Contoh penggunaan if bersarang\n",
    "umur = 20\n",
    "mahasiswa = True\n",
    "\n",
    "if umur >= 18:\n",
    "    if mahasiswa:\n",
    "        print(\"Anda mahasiswa dewasa.\")\n",
    "    else:\n",
    "        print(\"Anda dewasa tetapi bukan mahasiswa.\")\n",
    "else:\n",
    "    print(\"Anda belum dewasa.\")"
   ]
  }
 ],
 "metadata": {
  "kernelspec": {
   "display_name": "soft-comp-env",
   "language": "python",
   "name": "python3"
  },
  "language_info": {
   "codemirror_mode": {
    "name": "ipython",
    "version": 3
   },
   "file_extension": ".py",
   "mimetype": "text/x-python",
   "name": "python",
   "nbconvert_exporter": "python",
   "pygments_lexer": "ipython3",
   "version": "3.13.0"
  }
 },
 "nbformat": 4,
 "nbformat_minor": 2
}
