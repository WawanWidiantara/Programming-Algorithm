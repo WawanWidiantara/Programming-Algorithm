{
 "cells": [
  {
   "cell_type": "markdown",
   "metadata": {},
   "source": [
    "# Penggunaan `for` pada List, Tuple, Set, dan Dictionary\n",
    "\n",
    "## Pendahuluan\n",
    "Pengulangan dengan menggunakan **`for` loop** memungkinkan kita untuk mengakses setiap elemen dalam struktur data seperti List, Tuple, Set, dan Dictionary. Masing-masing struktur data memiliki cara yang sedikit berbeda dalam menggunakan `for` loop, dan penting untuk memahami perbedaannya.\n",
    "\n",
    "---\n",
    "\n",
    "## 1. Menggunakan `for` pada List\n",
    "\n",
    "### Iterasi pada List\n",
    "Dengan `for` loop, kita bisa mengakses setiap elemen dalam list secara berurutan."
   ]
  },
  {
   "cell_type": "code",
   "execution_count": 8,
   "metadata": {},
   "outputs": [
    {
     "name": "stdout",
     "output_type": "stream",
     "text": [
      "apel\n",
      "pisang\n",
      "jeruk\n",
      "mangga\n"
     ]
    }
   ],
   "source": [
    "buah = [\"apel\", \"pisang\", \"jeruk\", \"mangga\"]\n",
    "\n",
    "# Iterasi untuk mencetak setiap elemen dalam list\n",
    "for item in buah:\n",
    "    print(item)"
   ]
  },
  {
   "cell_type": "markdown",
   "metadata": {},
   "source": [
    "### Menambahkan Indeks dalam Iterasi\n",
    "Untuk mendapatkan indeks setiap elemen, kita bisa menggunakan fungsi `enumerate()`."
   ]
  },
  {
   "cell_type": "code",
   "execution_count": 9,
   "metadata": {},
   "outputs": [
    {
     "name": "stdout",
     "output_type": "stream",
     "text": [
      "Indeks 0: apel\n",
      "Indeks 1: pisang\n",
      "Indeks 2: jeruk\n",
      "Indeks 3: mangga\n"
     ]
    }
   ],
   "source": [
    "for index, item in enumerate(buah):\n",
    "    print(f\"Indeks {index}: {item}\")"
   ]
  },
  {
   "cell_type": "markdown",
   "metadata": {},
   "source": [
    "---\n",
    "\n",
    "## 2. Menggunakan `for` pada Tuple\n",
    "### Iterasi pada Tuple\n",
    "Tuple juga bisa diiterasi menggunakan `for` loop dengan cara yang sama seperti list."
   ]
  },
  {
   "cell_type": "code",
   "execution_count": 10,
   "metadata": {},
   "outputs": [
    {
     "name": "stdout",
     "output_type": "stream",
     "text": [
      "10\n",
      "20\n",
      "30\n"
     ]
    }
   ],
   "source": [
    "koordinat = (10, 20, 30)\n",
    "\n",
    "# Iterasi untuk mencetak setiap elemen dalam tuple\n",
    "for item in koordinat:\n",
    "    print(item)"
   ]
  },
  {
   "cell_type": "markdown",
   "metadata": {},
   "source": [
    "### Menambahkan Indeks dalam Iterasi\n",
    "Sama seperti pada list, kita bisa menggunakan `enumerate()` untuk mendapatkan indeks."
   ]
  },
  {
   "cell_type": "code",
   "execution_count": 11,
   "metadata": {},
   "outputs": [
    {
     "name": "stdout",
     "output_type": "stream",
     "text": [
      "Indeks 0: 10\n",
      "Indeks 1: 20\n",
      "Indeks 2: 30\n"
     ]
    }
   ],
   "source": [
    "for index, item in enumerate(koordinat):\n",
    "    print(f\"Indeks {index}: {item}\")"
   ]
  },
  {
   "cell_type": "markdown",
   "metadata": {},
   "source": [
    "## 3. Menggunakan `for` pada Set\n",
    "### Iterasi pada Set\n",
    "Meskipun set tidak terurut, kita masih bisa mengiterasi elemen di dalamnya menggunakan `for` loop. Urutannya mungkin berbeda setiap kali kita menjalankan program."
   ]
  },
  {
   "cell_type": "code",
   "execution_count": 12,
   "metadata": {},
   "outputs": [
    {
     "name": "stdout",
     "output_type": "stream",
     "text": [
      "1\n",
      "2\n",
      "3\n",
      "4\n",
      "5\n"
     ]
    }
   ],
   "source": [
    "angka = {1, 2, 3, 4, 5}\n",
    "\n",
    "# Iterasi untuk mencetak setiap elemen dalam set\n",
    "for item in angka:\n",
    "    print(item)"
   ]
  },
  {
   "cell_type": "markdown",
   "metadata": {},
   "source": [
    "### Catatan\n",
    "- Set tidak menjamin urutan, jadi urutan output mungkin berbeda setiap kali kamu menjalankan kode."
   ]
  },
  {
   "cell_type": "markdown",
   "metadata": {},
   "source": [
    "---\n",
    "\n",
    "## 4. Menggunakan `for` pada Dictionary\n",
    "### Iterasi pada Dictionary: Mengakses Key\n",
    "Untuk mengiterasi key pada dictionary, kita dapat menggunakan `for` loop langsung pada dictionary."
   ]
  },
  {
   "cell_type": "code",
   "execution_count": 13,
   "metadata": {},
   "outputs": [
    {
     "name": "stdout",
     "output_type": "stream",
     "text": [
      "nama\n",
      "umur\n",
      "alamat\n"
     ]
    }
   ],
   "source": [
    "siswa = {\"nama\": \"Andi\", \"umur\": 21, \"alamat\": \"Jakarta\"}\n",
    "\n",
    "# Iterasi untuk mencetak setiap key dalam dictionary\n",
    "for key in siswa:\n",
    "    print(key)"
   ]
  },
  {
   "cell_type": "markdown",
   "metadata": {},
   "source": [
    "### Iterasi pada Dictionary: Mengakses Value\n",
    "Untuk mengakses nilai dari key yang ada, kita bisa menggunakan metode `values()`."
   ]
  },
  {
   "cell_type": "code",
   "execution_count": 14,
   "metadata": {},
   "outputs": [
    {
     "name": "stdout",
     "output_type": "stream",
     "text": [
      "Andi\n",
      "21\n",
      "Jakarta\n"
     ]
    }
   ],
   "source": [
    "for value in siswa.values():\n",
    "    print(value)"
   ]
  },
  {
   "cell_type": "markdown",
   "metadata": {},
   "source": [
    "### Iterasi pada Dictionary: Mengakses Key dan Value\n",
    "Untuk mengakses pasangan key-value, kita bisa menggunakan metode `items()`."
   ]
  },
  {
   "cell_type": "code",
   "execution_count": 15,
   "metadata": {},
   "outputs": [
    {
     "name": "stdout",
     "output_type": "stream",
     "text": [
      "Key: nama, Value: Andi\n",
      "Key: umur, Value: 21\n",
      "Key: alamat, Value: Jakarta\n"
     ]
    }
   ],
   "source": [
    "for key, value in siswa.items():\n",
    "    print(f\"Key: {key}, Value: {value}\")"
   ]
  }
 ],
 "metadata": {
  "kernelspec": {
   "display_name": "alpro-env",
   "language": "python",
   "name": "python3"
  },
  "language_info": {
   "codemirror_mode": {
    "name": "ipython",
    "version": 3
   },
   "file_extension": ".py",
   "mimetype": "text/x-python",
   "name": "python",
   "nbconvert_exporter": "python",
   "pygments_lexer": "ipython3",
   "version": "3.12.7"
  }
 },
 "nbformat": 4,
 "nbformat_minor": 2
}
