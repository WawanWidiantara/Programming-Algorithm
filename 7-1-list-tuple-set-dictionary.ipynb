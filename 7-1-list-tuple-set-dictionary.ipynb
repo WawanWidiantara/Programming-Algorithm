{
 "cells": [
  {
   "cell_type": "markdown",
   "metadata": {},
   "source": [
    "# # Struktur Data di Python: List, Tuple, Set, dan Dictionary\n",
    "\n",
    "## Pendahuluan\n",
    "Dalam Python, ada beberapa struktur data yang dapat digunakan untuk menyimpan koleksi data. Struktur data ini memiliki sifat dan cara penggunaan yang berbeda, dan masing-masing digunakan sesuai dengan kebutuhan. Struktur data yang akan kita bahas kali ini adalah **List**, **Tuple**, **Set**, dan **Dictionary**.\n",
    "\n",
    "---\n",
    "\n",
    "## 1. List\n",
    "\n",
    "**List** adalah salah satu struktur data yang paling sering digunakan dalam Python. List merupakan koleksi data yang terurut, dapat diubah (mutable), dan dapat berisi elemen dengan tipe data yang berbeda-beda.\n",
    "\n",
    "### Karakteristik List:\n",
    "- Terurut (ordered)\n",
    "- Dapat diubah (mutable)\n",
    "- Dapat berisi tipe data yang berbeda\n",
    "\n",
    "### Mendefinisikan List\n",
    "List didefinisikan dengan menggunakan tanda kurung siku `[]`."
   ]
  },
  {
   "cell_type": "code",
   "execution_count": 26,
   "metadata": {},
   "outputs": [
    {
     "name": "stdout",
     "output_type": "stream",
     "text": [
      "['apel', 'pisang', 'jeruk', 'mangga']\n"
     ]
    }
   ],
   "source": [
    "buah = [\"apel\", \"pisang\", \"jeruk\", \"mangga\"]\n",
    "print(buah)"
   ]
  },
  {
   "cell_type": "markdown",
   "metadata": {
    "vscode": {
     "languageId": "plaintext"
    }
   },
   "source": [
    "### Mengakses Elemen List\n",
    "Elemen dalam list dapat diakses menggunakan indeks (dimulai dari 0)."
   ]
  },
  {
   "cell_type": "code",
   "execution_count": 27,
   "metadata": {},
   "outputs": [
    {
     "name": "stdout",
     "output_type": "stream",
     "text": [
      "apel\n",
      "jeruk\n"
     ]
    }
   ],
   "source": [
    "print(buah[0])  # Mengakses elemen pertama\n",
    "print(buah[2])  # Mengakses elemen ketiga"
   ]
  },
  {
   "cell_type": "markdown",
   "metadata": {},
   "source": [
    "### Menambahkan dan Menghapus Elemen\n",
    "Kita dapat menambahkan elemen menggunakan metode `append()`, dan menghapus elemen menggunakan metode `remove()` atau `pop()`."
   ]
  },
  {
   "cell_type": "code",
   "execution_count": 28,
   "metadata": {},
   "outputs": [
    {
     "name": "stdout",
     "output_type": "stream",
     "text": [
      "['apel', 'pisang', 'jeruk', 'mangga', 'durian']\n",
      "['apel', 'jeruk', 'mangga', 'durian']\n",
      "['apel', 'mangga', 'durian']\n"
     ]
    }
   ],
   "source": [
    "buah.append(\"durian\")  # Menambahkan elemen di akhir list\n",
    "print(buah)\n",
    "\n",
    "buah.remove(\"pisang\")  # Menghapus elemen dengan nilai \"pisang\"\n",
    "print(buah)\n",
    "\n",
    "buah.pop(1)  # Menghapus elemen pada indeks ke-1\n",
    "print(buah)"
   ]
  },
  {
   "cell_type": "markdown",
   "metadata": {},
   "source": [
    "---\n",
    "\n",
    "## 2. Tuple\n",
    "\n",
    "**Tuple** adalah struktur data yang serupa dengan list, tetapi tidak dapat diubah setelah didefinisikan (immutable). Tuples sering digunakan untuk data yang tidak perlu diubah setelah didefinisikan.\n",
    "\n",
    "### Karakteristik Tuple:\n",
    "- Terurut (ordered)\n",
    "- Tidak dapat diubah (immutable)\n",
    "- Dapat berisi tipe data yang berbeda\n",
    "\n",
    "### Mendefinisikan Tuple\n",
    "Tuple didefinisikan dengan tanda kurung biasa `()`."
   ]
  },
  {
   "cell_type": "code",
   "execution_count": 29,
   "metadata": {},
   "outputs": [
    {
     "name": "stdout",
     "output_type": "stream",
     "text": [
      "(10, 20)\n"
     ]
    }
   ],
   "source": [
    "koordinat = (10, 20)\n",
    "print(koordinat)"
   ]
  },
  {
   "cell_type": "markdown",
   "metadata": {},
   "source": [
    "### Mengakses Elemen Tuple\n",
    "Seperti list, kita bisa mengakses elemen dalam tuple dengan indeks."
   ]
  },
  {
   "cell_type": "code",
   "execution_count": 30,
   "metadata": {},
   "outputs": [
    {
     "name": "stdout",
     "output_type": "stream",
     "text": [
      "10\n",
      "20\n"
     ]
    }
   ],
   "source": [
    "print(koordinat[0])  # Mengakses elemen pertama\n",
    "print(koordinat[1])  # Mengakses elemen kedua"
   ]
  },
  {
   "cell_type": "markdown",
   "metadata": {},
   "source": [
    "### Tuple Tidak Bisa Diubah\n",
    "Jika kita mencoba untuk mengubah nilai dalam tuple, kita akan mendapatkan error."
   ]
  },
  {
   "cell_type": "code",
   "execution_count": 31,
   "metadata": {},
   "outputs": [
    {
     "ename": "TypeError",
     "evalue": "'tuple' object does not support item assignment",
     "output_type": "error",
     "traceback": [
      "\u001b[0;31m---------------------------------------------------------------------------\u001b[0m",
      "\u001b[0;31mTypeError\u001b[0m                                 Traceback (most recent call last)",
      "Cell \u001b[0;32mIn[31], line 2\u001b[0m\n\u001b[1;32m      1\u001b[0m \u001b[38;5;66;03m# Koordinat tidak bisa diubah karena tuple bersifat immutable\u001b[39;00m\n\u001b[0;32m----> 2\u001b[0m \u001b[43mkoordinat\u001b[49m\u001b[43m[\u001b[49m\u001b[38;5;241;43m0\u001b[39;49m\u001b[43m]\u001b[49m \u001b[38;5;241m=\u001b[39m \u001b[38;5;241m30\u001b[39m  \u001b[38;5;66;03m# Akan menghasilkan error\u001b[39;00m\n",
      "\u001b[0;31mTypeError\u001b[0m: 'tuple' object does not support item assignment"
     ]
    }
   ],
   "source": [
    "# Koordinat tidak bisa diubah karena tuple bersifat immutable\n",
    "koordinat[0] = 30  # Akan menghasilkan error"
   ]
  },
  {
   "cell_type": "markdown",
   "metadata": {},
   "source": [
    "---\n",
    "\n",
    "## 3. Set\n",
    "**Set** adalah kumpulan data yang tidak terurut dan tidak dapat berisi elemen yang sama. Set digunakan untuk menyimpan data yang unik, tanpa urutan tertentu.\n",
    "\n",
    "## Karakteristik Set:\n",
    "- Tidak terurut (unordered)\n",
    "- Tidak dapat berisi elemen yang sama (unique)\n",
    "- Dapat berisi elemen dengan tipe data yang berbeda\n",
    "\n",
    "## Mendefinisikan Set\n",
    "Set didefinisikan dengan menggunakan tanda kurung kurawal `{}`."
   ]
  },
  {
   "cell_type": "code",
   "execution_count": 32,
   "metadata": {},
   "outputs": [
    {
     "name": "stdout",
     "output_type": "stream",
     "text": [
      "{1, 2, 3, 4, 5}\n"
     ]
    }
   ],
   "source": [
    "angka = {1, 2, 3, 4, 5}\n",
    "print(angka)"
   ]
  },
  {
   "cell_type": "markdown",
   "metadata": {},
   "source": [
    "### Menambahkan dan Menghapus Elemen\n",
    "Kita dapat menambahkan elemen ke dalam set menggunakan metode `add()`, dan menghapus elemen menggunakan metode `remove()` atau `discard()`."
   ]
  },
  {
   "cell_type": "code",
   "execution_count": 33,
   "metadata": {},
   "outputs": [
    {
     "name": "stdout",
     "output_type": "stream",
     "text": [
      "{1, 2, 3, 4, 5, 6}\n",
      "{1, 2, 4, 5, 6}\n",
      "{1, 4, 5, 6}\n"
     ]
    }
   ],
   "source": [
    "angka.add(6)  # Menambahkan elemen ke dalam set\n",
    "print(angka)\n",
    "\n",
    "angka.remove(3)  # Menghapus elemen dengan nilai 3\n",
    "print(angka)\n",
    "\n",
    "angka.discard(2)  # Menghapus elemen dengan nilai 2 (tanpa error jika elemen tidak ada)\n",
    "print(angka)"
   ]
  },
  {
   "cell_type": "markdown",
   "metadata": {},
   "source": [
    "### Perhatikan:\n",
    "Set tidak menjaga urutan elemen, jadi jika kita mencetak elemen set, hasilnya bisa berbeda-beda."
   ]
  },
  {
   "cell_type": "code",
   "execution_count": 47,
   "metadata": {},
   "outputs": [
    {
     "name": "stdout",
     "output_type": "stream",
     "text": [
      "{1, 4, 5, 6}\n"
     ]
    }
   ],
   "source": [
    "print(angka)  # Hasilnya bisa tidak berurutan"
   ]
  },
  {
   "cell_type": "markdown",
   "metadata": {},
   "source": [
    "---\n",
    "\n",
    "## 4. Dictionary\n",
    "**Dictionary** adalah koleksi data yang terdiri dari pasangan key-value. Setiap elemen dalam dictionary memiliki key (kunci) yang unik, dan value (nilai) yang dapat berupa tipe data apa saja.\n",
    "\n",
    "### Karakteristik Dictionary:\n",
    "- Tidak terurut (unordered) pada versi Python 3.6 ke bawah, tetapi terurut mulai Python 3.7 ke atas\n",
    "- Memiliki pasangan key-value\n",
    "- Key bersifat unik (tidak bisa ada dua key yang sama)\n",
    "\n",
    "### Mendefinisikan Dictionary\n",
    "Dictionary didefinisikan dengan tanda kurung kurawal `{}`, dengan pasangan key-value yang dipisahkan oleh titik dua `:`."
   ]
  },
  {
   "cell_type": "code",
   "execution_count": 48,
   "metadata": {},
   "outputs": [
    {
     "name": "stdout",
     "output_type": "stream",
     "text": [
      "{'nama': 'Andi', 'umur': 20, 'kota': 'Jakarta'}\n"
     ]
    }
   ],
   "source": [
    "siswa = {\n",
    "    \"nama\": \"Andi\",\n",
    "    \"umur\": 20,\n",
    "    \"kota\": \"Jakarta\"\n",
    "}\n",
    "print(siswa)"
   ]
  },
  {
   "cell_type": "markdown",
   "metadata": {},
   "source": [
    "### Mengakses Nilai dalam Dictionary\n",
    "Nilai dalam dictionary diakses menggunakan key."
   ]
  },
  {
   "cell_type": "code",
   "execution_count": 49,
   "metadata": {},
   "outputs": [
    {
     "name": "stdout",
     "output_type": "stream",
     "text": [
      "Andi\n",
      "20\n"
     ]
    }
   ],
   "source": [
    "print(siswa[\"nama\"])  # Mengakses nilai dengan key \"nama\"\n",
    "print(siswa[\"umur\"])  # Mengakses nilai dengan key \"umur\""
   ]
  },
  {
   "cell_type": "markdown",
   "metadata": {},
   "source": [
    "### Menambahkan, Mengubah, dan Menghapus Elemen\n",
    "Kita bisa menambahkan elemen baru atau mengubah nilai dari key yang sudah ada."
   ]
  },
  {
   "cell_type": "code",
   "execution_count": 50,
   "metadata": {},
   "outputs": [
    {
     "name": "stdout",
     "output_type": "stream",
     "text": [
      "{'nama': 'Andi', 'umur': 21, 'kota': 'Jakarta', 'alamat': 'Jakarta Barat'}\n",
      "{'nama': 'Andi', 'umur': 21, 'alamat': 'Jakarta Barat'}\n"
     ]
    }
   ],
   "source": [
    "# Menambahkan atau mengubah nilai\n",
    "siswa[\"alamat\"] = \"Jakarta Barat\"  # Menambahkan key baru dengan value\n",
    "siswa[\"umur\"] = 21  # Mengubah nilai key \"umur\"\n",
    "print(siswa)\n",
    "\n",
    "# Menghapus elemen dengan key tertentu\n",
    "del siswa[\"kota\"]  # Menghapus elemen dengan key \"kota\"\n",
    "print(siswa)"
   ]
  },
  {
   "cell_type": "markdown",
   "metadata": {},
   "source": [
    "### Metode dalam Dictionary\n",
    "Beberapa metode yang umum digunakan dalam dictionary antara lain:\n",
    "\n",
    "- `keys()` untuk mendapatkan semua key\n",
    "- `values()` untuk mendapatkan semua value\n",
    "- `items()` untuk mendapatkan pasangan key-value"
   ]
  },
  {
   "cell_type": "code",
   "execution_count": null,
   "metadata": {},
   "outputs": [
    {
     "name": "stdout",
     "output_type": "stream",
     "text": [
      "dict_keys(['nama', 'umur', 'alamat'])\n",
      "dict_values(['Andi', 21, 'Jakarta Barat'])\n",
      "dict_items([('nama', 'Andi'), ('umur', 21), ('alamat', 'Jakarta Barat')])\n"
     ]
    }
   ],
   "source": [
    "print(siswa.keys())   # Menampilkan semua key\n",
    "print(siswa.values()) # Menampilkan semua value\n",
    "print(siswa.items())  # Menampilkan semua pasangan key-value"
   ]
  },
  {
   "cell_type": "markdown",
   "metadata": {},
   "source": [
    "---\n",
    "\n",
    "## Perbandingan: List, Tuple, Set, dan Dictionary\n",
    "\n",
    "| Fitur                  | List             | Tuple            | Set              | Dictionary                    |\n",
    "|------------------------|------------------|------------------|------------------|-------------------------------|\n",
    "| **Terurut**            | Ya               | Ya               | Tidak            | Tidak (Python 3.6 ke bawah)    |\n",
    "| **Dapat diubah**       | Ya               | Tidak            | Ya               | Ya                            |\n",
    "| **Elemen yang sama**   | Bisa             | Tidak            | Tidak            | Key harus unik                |\n",
    "| **Penyimpanan Data**   | Urut dan Berubah | Urut dan Tidak Berubah | Tidak Urut      | Pasangan key-value            |\n",
    "| **Struktur**           | [1, 2, 3]        | (1, 2, 3)        | {1, 2, 3}        | {\"key\": \"value\"}              |"
   ]
  }
 ],
 "metadata": {
  "kernelspec": {
   "display_name": "alpro-env",
   "language": "python",
   "name": "python3"
  },
  "language_info": {
   "codemirror_mode": {
    "name": "ipython",
    "version": 3
   },
   "file_extension": ".py",
   "mimetype": "text/x-python",
   "name": "python",
   "nbconvert_exporter": "python",
   "pygments_lexer": "ipython3",
   "version": "3.12.7"
  }
 },
 "nbformat": 4,
 "nbformat_minor": 2
}
