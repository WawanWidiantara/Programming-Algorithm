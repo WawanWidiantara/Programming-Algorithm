{
 "cells": [
  {
   "cell_type": "markdown",
   "metadata": {},
   "source": [
    "# Challenge: Menghitung Luas Persegi Panjang dan Segitiga Menggunakan Fungsi dan Percabangan\n",
    "\n",
    "## Deskripsi Tantangan:\n",
    "Pada tantangan ini, Anda diminta untuk membuat program sederhana yang menghitung luas persegi panjang dan segitiga menggunakan fungsi dan percabangan. Program Anda harus dapat menerima input dari pengguna dan menghitung luas berdasarkan pilihan bentuk geometri yang diinginkan oleh pengguna.\n",
    "\n",
    "## Instruksi:\n",
    "\n",
    "1. **Buat dua fungsi:**\n",
    "   - Satu fungsi untuk menghitung luas **persegi panjang**. Fungsi ini harus menerima dua parameter: panjang dan lebar.\n",
    "   - Satu fungsi untuk menghitung luas **segitiga**. Fungsi ini harus menerima dua parameter: alas dan tinggi.\n",
    "\n",
    "2. **Tambahkan logika percabangan (if-else):**\n",
    "   - Minta pengguna untuk memilih apakah mereka ingin menghitung luas persegi panjang atau segitiga.\n",
    "   - Jika pengguna memilih persegi panjang, program harus meminta input panjang dan lebar, lalu menghitung luas menggunakan fungsi yang sudah Anda buat.\n",
    "   - Jika pengguna memilih segitiga, program harus meminta input alas dan tinggi, lalu menghitung luas segitiga menggunakan fungsi yang sesuai.\n",
    "\n",
    "3. **Validasi Input:**\n",
    "   - Pastikan program hanya menerima dua pilihan: “persegi panjang” atau “segitiga”. Jika pengguna memasukkan input yang tidak valid, tampilkan pesan kesalahan.\n",
    "\n",
    "4. **Tampilkan hasil perhitungan:**\n",
    "   - Setelah perhitungan selesai, tampilkan hasilnya kepada pengguna.\n",
    "\n",
    "## Contoh Alur Program:\n",
    "- Program menampilkan menu: \"persegi panjang\" atau \"segitiga\".\n",
    "- Pengguna memilih \"persegi panjang\".\n",
    "- Program meminta pengguna memasukkan panjang dan lebar persegi panjang.\n",
    "- Program menghitung luas persegi panjang dan menampilkan hasilnya.\n",
    "\n",
    "## Contoh Output:\n",
    "```python\n",
    "Program Menghitung Luas Bentuk Geometri\n",
    "1. Persegi Panjang\n",
    "2. Segitiga\n",
    "\n",
    "jika persegi panjang:\n",
    "Masukkan pilihan Anda (persegi panjang / segitiga): persegi panjang\n",
    "Masukkan panjang persegi panjang: 5\n",
    "Masukkan lebar persegi panjang: 3\n",
    "Luas persegi panjang adalah: 15.0\n",
    "\n",
    "jika segitiga:\n",
    "Masukkan pilihan Anda (persegi panjang / segitiga): segitiga\n",
    "Masukkan alas segitiga: 5\n",
    "Masukkan tinggi segitiga: 3\n",
    "Luas segitiga adalah: 15.0"
   ]
  }
 ],
 "metadata": {
  "language_info": {
   "name": "python"
  }
 },
 "nbformat": 4,
 "nbformat_minor": 2
}
