{
 "cells": [
  {
   "cell_type": "markdown",
   "metadata": {},
   "source": [
    "# Challenge Kelas VI: Program Loop dengan Kondisi Kelipatan\n",
    "\n",
    "## 1. Deskripsi Tantangan\n",
    "\n",
    "Buat sebuah program looping yang menerima **input nilai awal** dari pengguna, dan memiliki variabel **nilai akhir** yang diatur sesuai dengan NPM masing-masing. Program ini akan melakukan pengecekan setiap nilai pada loop dari nilai awal hingga nilai akhir, dan menampilkan hasil berdasarkan kondisi kelipatan tertentu:\n",
    "\n",
    "### Kondisi Pengecekan:\n",
    "1. Jika nilai merupakan **kelipatan 5**, cetak nilai tersebut.\n",
    "2. Jika nilai merupakan **kelipatan 7**, cetak pesan: \"{nilai} - kelipatan 7\".\n",
    "3. Jika nilai merupakan **kelipatan 5 dan 7 sekaligus**, cetak pesan: \"boom\".\n",
    "4. Jika tidak memenuhi salah satu kondisi di atas, program tidak mencetak apa pun.\n"
   ]
  },
  {
   "cell_type": "markdown",
   "metadata": {
    "vscode": {
     "languageId": "plaintext"
    }
   },
   "source": [
    "## Penyelesaian"
   ]
  },
  {
   "cell_type": "code",
   "execution_count": 2,
   "metadata": {},
   "outputs": [
    {
     "name": "stdout",
     "output_type": "stream",
     "text": [
      "100\n",
      "boom\n",
      "110\n",
      "112 - kelipatan 7\n",
      "115\n",
      "119 - kelipatan 7\n",
      "120\n",
      "125\n",
      "126 - kelipatan 7\n",
      "130\n",
      "133 - kelipatan 7\n"
     ]
    }
   ],
   "source": [
    "# Langkah 1: Minta input dari pengguna\n",
    "nilai_awal = int(input(\"Masukkan nilai awal: \"))\n",
    "\n",
    "# Langkah 2: Set nilai akhir (sesuai NPM)\n",
    "nilai_akhir = 135  # NPM bisa diganti sesuai kebutuhan\n",
    "\n",
    "# Langkah 3: Loop dari nilai awal hingga nilai akhir\n",
    "for nilai in range(nilai_awal, nilai_akhir):  # Batasi hingga nilai_awal + 100 untuk contoh\n",
    "    if nilai % 5 == 0 and nilai % 7 == 0:\n",
    "        print(\"boom\")\n",
    "    elif nilai % 5 == 0:\n",
    "        print(nilai)\n",
    "    elif nilai % 7 == 0:\n",
    "        print(f\"{nilai} - kelipatan 7\")"
   ]
  }
 ],
 "metadata": {
  "kernelspec": {
   "display_name": "soft-comp-env",
   "language": "python",
   "name": "python3"
  },
  "language_info": {
   "codemirror_mode": {
    "name": "ipython",
    "version": 3
   },
   "file_extension": ".py",
   "mimetype": "text/x-python",
   "name": "python",
   "nbconvert_exporter": "python",
   "pygments_lexer": "ipython3",
   "version": "3.13.0"
  }
 },
 "nbformat": 4,
 "nbformat_minor": 2
}
