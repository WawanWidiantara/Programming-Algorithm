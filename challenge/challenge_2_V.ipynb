{
 "cells": [
  {
   "cell_type": "markdown",
   "metadata": {},
   "source": [
    "# Challenge Pertama Kelas V: Konversi Suhu dari Celsius ke Fahrenheit dan Kelvin\n",
    "\n",
    "## Deskripsi Challenge\n",
    "\n",
    "Anda diminta untuk membuat sebuah program yang mengubah suhu dari Celsius ke Fahrenheit dan Kelvin. Untuk contoh ini, suhu yang akan dikonversi adalah 10°C (Celsius).\n",
    "\n",
    "### Rumus Konversi Suhu:\n",
    "\n",
    "- **Fahrenheit (°F)**:\n",
    "$$ \n",
    "F = \\left( \\frac{9}{5} \\times C \\right) + 32\n",
    "$$\n",
    "  \n",
    "- **Kelvin (K)**:\n",
    "  $$\n",
    "  K = C + 273.15\n",
    "  $$"
   ]
  },
  {
   "cell_type": "markdown",
   "metadata": {
    "vscode": {
     "languageId": "plaintext"
    }
   },
   "source": [
    "## Penyelesaian"
   ]
  },
  {
   "cell_type": "code",
   "execution_count": 1,
   "metadata": {},
   "outputs": [
    {
     "name": "stdout",
     "output_type": "stream",
     "text": [
      "Suhu dalam Celsius: 10°C\n",
      "Suhu dalam Fahrenheit: 50.0°F\n",
      "Suhu dalam Kelvin: 283.15 K\n"
     ]
    }
   ],
   "source": [
    "# Langkah 1: Buat variabel untuk suhu Celsius\n",
    "celsius = 10\n",
    "\n",
    "# Langkah 2: Konversi ke Fahrenheit\n",
    "fahrenheit = (9/5) * celsius + 32\n",
    "\n",
    "# Langkah 3: Konversi ke Kelvin\n",
    "kelvin = celsius + 273.15\n",
    "\n",
    "# Langkah 4: Tampilkan hasil konversi\n",
    "print(f\"Suhu dalam Celsius: {celsius}°C\")\n",
    "print(f\"Suhu dalam Fahrenheit: {fahrenheit}°F\")\n",
    "print(f\"Suhu dalam Kelvin: {kelvin} K\")"
   ]
  },
  {
   "cell_type": "markdown",
   "metadata": {},
   "source": [
    "# Challenge Kedua Kelas V: Operasi Pengecekan NPM\n",
    "\n",
    "## 1. Deskripsi Challenge\n",
    "\n",
    "Anda diminta untuk membuat program yang menerima input `npm` dari pengguna, kemudian melakukan operasi pengecekan menggunakan operator perbandingan dan logika. Program ini akan memeriksa apakah `npm` lebih kecil dari 100 dan apakah `npm` sama dengan 100.\n",
    "\n",
    "### Operasi yang akan dilakukan:\n",
    "1. Pengecekan apakah `npm` kurang dari 100.\n",
    "2. Pengecekan apakah `npm` sama dengan 100.\n",
    "3. Melakukan perbandingan logika (AND) dari dua kondisi di atas.\n",
    "\n",
    "### Hasil yang ditampilkan:\n",
    "- Nilai `npm`\n",
    "- Hasil dari pengecekan apakah `npm` kurang dari 100 (`is_kurang_dari`).\n",
    "- Hasil dari pengecekan apakah `npm` sama dengan 100 (`is_sama_dengan`).\n",
    "- Hasil dari perbandingan logika (AND) antara `is_kurang_dari` dan `is_sama_dengan`."
   ]
  },
  {
   "cell_type": "markdown",
   "metadata": {},
   "source": [
    "## Penyelesaian"
   ]
  },
  {
   "cell_type": "code",
   "execution_count": 2,
   "metadata": {},
   "outputs": [
    {
     "name": "stdout",
     "output_type": "stream",
     "text": [
      "NPM: 135\n",
      "Apakah NPM kurang dari 100? False\n",
      "Apakah NPM sama dengan 100? False\n",
      "Perbandingan (is_kurang_dari AND is_sama_dengan): False\n"
     ]
    }
   ],
   "source": [
    "# Langkah 1: Input NPM dari pengguna\n",
    "npm = int(input(\"Masukkan NPM Anda: \"))\n",
    "\n",
    "# Langkah 2: Operasi pengecekan\n",
    "is_kurang_dari = npm < 100\n",
    "is_sama_dengan = npm == 100\n",
    "\n",
    "# Langkah 3: Perbandingan logika (AND)\n",
    "perbandingan = is_kurang_dari and is_sama_dengan\n",
    "\n",
    "# Langkah 4: Tampilkan hasil\n",
    "print(f\"NPM: {npm}\")\n",
    "print(f\"Apakah NPM kurang dari 100? {is_kurang_dari}\")\n",
    "print(f\"Apakah NPM sama dengan 100? {is_sama_dengan}\")\n",
    "print(f\"Perbandingan (is_kurang_dari AND is_sama_dengan): {perbandingan}\")"
   ]
  }
 ],
 "metadata": {
  "kernelspec": {
   "display_name": "soft-comp-env",
   "language": "python",
   "name": "python3"
  },
  "language_info": {
   "codemirror_mode": {
    "name": "ipython",
    "version": 3
   },
   "file_extension": ".py",
   "mimetype": "text/x-python",
   "name": "python",
   "nbconvert_exporter": "python",
   "pygments_lexer": "ipython3",
   "version": "3.13.0"
  }
 },
 "nbformat": 4,
 "nbformat_minor": 2
}
