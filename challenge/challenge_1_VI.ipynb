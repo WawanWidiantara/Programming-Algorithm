{
 "cells": [
  {
   "cell_type": "markdown",
   "metadata": {},
   "source": [
    "# Challenge Kelas VI: Luas Segitiga dan Variabel Nama\n",
    "\n",
    "## 1. Deskripsi Tantangan\n",
    "\n",
    "Buat variabel berikut:\n",
    "\n",
    "- `nama_depan`: berisi nama depan Anda\n",
    "- `nama_belakang`: berisi nama belakang Anda\n",
    "- `fullname`: gabungan dari nama depan dan nama belakang\n",
    "- `npm`: berisi NPM Anda\n",
    "\n",
    "Setelah itu, hitung luas segitiga dengan:\n",
    "- Alas = 6\n",
    "- Tinggi = 8"
   ]
  },
  {
   "cell_type": "markdown",
   "metadata": {},
   "source": [
    "## 2. Penyelesaian"
   ]
  },
  {
   "cell_type": "code",
   "execution_count": 1,
   "metadata": {},
   "outputs": [
    {
     "name": "stdout",
     "output_type": "stream",
     "text": [
      "NPM: 5210411135, Namaku adalah I Gede Widiantara\n",
      "Luas Segitiga: 24.0\n"
     ]
    }
   ],
   "source": [
    "# Langkah 1: Buat variabel nama dan npm\n",
    "nama_depan = \"I Gede\"\n",
    "nama_belakang = \"Widiantara\"\n",
    "fullname = nama_depan + \" \" + nama_belakang\n",
    "npm = \"5210411135\"\n",
    "\n",
    "# Langkah 2: Tampilkan output nama dan NPM\n",
    "print(f\"NPM: {npm}, Namaku adalah {fullname}\")\n",
    "\n",
    "# Langkah 3: Hitung luas segitiga\n",
    "alas = 6\n",
    "tinggi = 8\n",
    "luas_segitiga = 0.5 * alas * tinggi\n",
    "\n",
    "# Langkah 4: Tampilkan output luas segitiga\n",
    "print(f\"Luas Segitiga: {luas_segitiga}\")"
   ]
  }
 ],
 "metadata": {
  "kernelspec": {
   "display_name": "soft-comp-env",
   "language": "python",
   "name": "python3"
  },
  "language_info": {
   "codemirror_mode": {
    "name": "ipython",
    "version": 3
   },
   "file_extension": ".py",
   "mimetype": "text/x-python",
   "name": "python",
   "nbconvert_exporter": "python",
   "pygments_lexer": "ipython3",
   "version": "3.13.0"
  }
 },
 "nbformat": 4,
 "nbformat_minor": 2
}
