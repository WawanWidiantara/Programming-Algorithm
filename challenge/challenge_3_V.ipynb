{
 "cells": [
  {
   "cell_type": "markdown",
   "metadata": {},
   "source": [
    "# Challenge Kelas V: Program Pengecekan Eligible Voting dan Skor Waktu\n",
    "\n",
    "## 1. Deskripsi Tantangan\n",
    "\n",
    "### Bagian 1: Pengecekan Eligible Voting\n",
    "Program ini akan meminta input berupa **umur** dari pengguna, dan berdasarkan umur tersebut, program akan menentukan apakah pengguna sudah memenuhi syarat untuk voting atau belum.\n",
    "\n",
    "### Kategori Umur:\n",
    "1. **Kurang dari 13 tahun**: Pengguna dianggap sebagai anak-anak dan belum bisa voting.\n",
    "2. **Di antara 13 dan 16 tahun**: Pengguna adalah remaja, namun belum bisa voting.\n",
    "3. **Di antara 17 dan 64 tahun**: Pengguna dianggap dewasa dan bisa voting.\n",
    "4. **Lebih dari 65 tahun**: Pengguna sudah tua, tetapi masih bisa voting."
   ]
  },
  {
   "cell_type": "markdown",
   "metadata": {
    "vscode": {
     "languageId": "plaintext"
    }
   },
   "source": [
    "## Penyelesaian"
   ]
  },
  {
   "cell_type": "code",
   "execution_count": 2,
   "metadata": {},
   "outputs": [
    {
     "name": "stdout",
     "output_type": "stream",
     "text": [
      "Umur Anda adalah 22 tahun.\n",
      "Aku sudah dewasa dan bisa melakukan voting.\n"
     ]
    }
   ],
   "source": [
    "# Minta input umur dari pengguna\n",
    "umur = int(input(\"Masukkan umur Anda: \"))\n",
    "print(\"Umur Anda adalah\", umur, \"tahun.\")\n",
    "\n",
    "# Cek kategori umur\n",
    "if umur < 13:\n",
    "    print(\"Aku masih anak-anak, belum cukup umur untuk voting.\")\n",
    "elif 13 <= umur <= 16:\n",
    "    print(\"Aku sudah remaja, tetapi belum cukup umur untuk voting.\")\n",
    "elif 17 <= umur <= 64:\n",
    "    print(\"Aku sudah dewasa dan bisa melakukan voting.\")\n",
    "else:\n",
    "    print(\"Aku tua dan masih bisa melakukan voting.\")"
   ]
  }
 ],
 "metadata": {
  "kernelspec": {
   "display_name": "soft-comp-env",
   "language": "python",
   "name": "python3"
  },
  "language_info": {
   "codemirror_mode": {
    "name": "ipython",
    "version": 3
   },
   "file_extension": ".py",
   "mimetype": "text/x-python",
   "name": "python",
   "nbconvert_exporter": "python",
   "pygments_lexer": "ipython3",
   "version": "3.13.0"
  }
 },
 "nbformat": 4,
 "nbformat_minor": 2
}
