{
 "cells": [
  {
   "cell_type": "markdown",
   "metadata": {},
   "source": [
    "# Challenge: Operasi Pengecekan NPM\n",
    "\n",
    "## 1. Deskripsi Tantangan\n",
    "\n",
    "Anda diminta untuk membuat program yang menerima input `npm` dari pengguna, kemudian melakukan operasi pengecekan menggunakan operator aritmetika, perbandingan, dan logika. \n",
    "\n",
    "### Langkah-langkah yang akan dilakukan:\n",
    "1. Menerima input `npm` dari pengguna.\n",
    "2. Melakukan operasi aritmetika:\n",
    "   - Menambah `npm` dengan 10 dan membagi hasilnya dengan 3.\n",
    "3. Melakukan pengecekan apakah `npm` kurang dari 100 dan apakah `npm` sama dengan 100.\n",
    "4. Melakukan perbandingan apakah 135 lebih besar atau sama dengan hasil dari operasi aritmetika.\n",
    "5. Menggunakan operator logika (OR) untuk membandingkan hasil nomor 3 dengan hasil perbandingan.\n",
    "\n",
    "### Hasil yang ditampilkan:\n",
    "- Nilai `npm`\n",
    "- Hasil pengecekan apakah `npm` kurang dari 100 (`is_kurang_dari`).\n",
    "- Hasil pengecekan apakah `npm` sama dengan 100 (`is_sama_dengan`).\n",
    "- Hasil perbandingan logika (OR) dari dua kondisi di atas."
   ]
  },
  {
   "cell_type": "markdown",
   "metadata": {
    "vscode": {
     "languageId": "plaintext"
    }
   },
   "source": [
    "## Penyelesaian"
   ]
  },
  {
   "cell_type": "code",
   "execution_count": 2,
   "metadata": {},
   "outputs": [
    {
     "name": "stdout",
     "output_type": "stream",
     "text": [
      "NPM: 135\n",
      "Apakah NPM kurang dari 100? False\n",
      "Apakah NPM sama dengan 100? False\n",
      "Hasil perbandingan (135 >= jumlah_npm): True\n",
      "Hasil logika (jumlah_npm OR pembanding): True\n"
     ]
    }
   ],
   "source": [
    "# Langkah 1: Input NPM dari pengguna\n",
    "npm = int(input(\"Masukkan NPM Anda: \"))\n",
    "\n",
    "# Langkah 2: Operasi aritmetika (menambah 10 dan membagi dengan 3)\n",
    "jumlah_npm = (npm + 10) / 3\n",
    "\n",
    "# Langkah 3: Pengecekan perbandingan NPM\n",
    "is_kurang_dari = npm < 100\n",
    "is_sama_dengan = npm == 100\n",
    "\n",
    "# Langkah 4: Perbandingan apakah 135 lebih besar atau sama dengan jumlah_npm\n",
    "pembanding = 135 >= jumlah_npm\n",
    "\n",
    "# Langkah 5: Operasi logika OR\n",
    "perbandingan = is_kurang_dari or pembanding\n",
    "\n",
    "# Langkah 6: Tampilkan hasil\n",
    "print(f\"NPM: {npm}\")\n",
    "print(f\"Apakah NPM kurang dari 100? {is_kurang_dari}\")\n",
    "print(f\"Apakah NPM sama dengan 100? {is_sama_dengan}\")\n",
    "print(f\"Hasil perbandingan (135 >= jumlah_npm): {pembanding}\")\n",
    "print(f\"Hasil logika (jumlah_npm OR pembanding): {perbandingan}\")"
   ]
  }
 ],
 "metadata": {
  "kernelspec": {
   "display_name": "soft-comp-env",
   "language": "python",
   "name": "python3"
  },
  "language_info": {
   "codemirror_mode": {
    "name": "ipython",
    "version": 3
   },
   "file_extension": ".py",
   "mimetype": "text/x-python",
   "name": "python",
   "nbconvert_exporter": "python",
   "pygments_lexer": "ipython3",
   "version": "3.13.0"
  }
 },
 "nbformat": 4,
 "nbformat_minor": 2
}
