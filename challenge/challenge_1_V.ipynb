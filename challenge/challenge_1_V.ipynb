{
 "cells": [
  {
   "cell_type": "markdown",
   "metadata": {},
   "source": [
    "# Challenge Kelas V: Luas Persegi Panjang\n",
    "\n",
    "## Deskripsi\n",
    "\n",
    "1. Buat variabel `nama` dan `npm`.\n",
    "2. Variabel `nama` memiliki value sesuai nama Anda.\n",
    "3. Variabel `npm` memiliki value sesuai npm Anda.\n",
    "4. Hitung luas persegi panjang dengan:\n",
    "   - Panjang = 10\n",
    "   - Lebar = 5"
   ]
  },
  {
   "cell_type": "markdown",
   "metadata": {
    "vscode": {
     "languageId": "plaintext"
    }
   },
   "source": [
    "## Penyelesaian"
   ]
  },
  {
   "cell_type": "code",
   "execution_count": 1,
   "metadata": {},
   "outputs": [
    {
     "name": "stdout",
     "output_type": "stream",
     "text": [
      "Namaku adalah I Gede Widiantara\n",
      "NPMku adalah 5210411135\n",
      "==================================\n",
      "Panjang = 10\n",
      "Lebar = 5\n",
      "Luas = 50\n"
     ]
    }
   ],
   "source": [
    "# Langkah 1: Buat variabel nama dan npm\n",
    "nama = 'I Gede Widiantara'\n",
    "npm = '5210411135'\n",
    "\n",
    "# Langkah 2: Deklarasi variabel panjang dan lebar\n",
    "panjang = 10\n",
    "lebar = 5\n",
    "\n",
    "# Langkah 3: Hitung luas\n",
    "luas = panjang * lebar\n",
    "\n",
    "# Langkah 4: Tampilkan output\n",
    "print(f\"Namaku adalah {nama}\")\n",
    "print(f\"NPMku adalah {npm}\")\n",
    "print(\"==================================\")\n",
    "print(f\"Panjang = {panjang}\")\n",
    "print(f\"Lebar = {lebar}\")\n",
    "print(f\"Luas = {luas}\")"
   ]
  }
 ],
 "metadata": {
  "kernelspec": {
   "display_name": "soft-comp-env",
   "language": "python",
   "name": "python3"
  },
  "language_info": {
   "codemirror_mode": {
    "name": "ipython",
    "version": 3
   },
   "file_extension": ".py",
   "mimetype": "text/x-python",
   "name": "python",
   "nbconvert_exporter": "python",
   "pygments_lexer": "ipython3",
   "version": "3.13.0"
  }
 },
 "nbformat": 4,
 "nbformat_minor": 2
}
