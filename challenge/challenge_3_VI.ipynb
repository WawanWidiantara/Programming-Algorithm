{
 "cells": [
  {
   "cell_type": "markdown",
   "metadata": {},
   "source": [
    "# Challenge Kelas VI: Program Menghitung BMI Sederhana\n",
    "\n",
    "## 1. Deskripsi Tantangan\n",
    "\n",
    "Body Mass Index (BMI) adalah indikator umum untuk mengukur apakah seseorang memiliki berat badan yang sehat berdasarkan tinggi dan berat badan. Program ini akan menghitung BMI berdasarkan input yang diberikan oleh pengguna dan mengelompokkan hasilnya ke dalam kategori tertentu.\n",
    "\n",
    "### Rumus BMI:\n",
    "$$\n",
    "BMI = \\frac{berat\\_badan}{(tinggi\\_badan)^2}\n",
    "$$\n",
    "dengan:\n",
    "- **berat_badan**: berat badan dalam kilogram (kg)\n",
    "- **tinggi_badan**: tinggi badan dalam meter (m)\n",
    "\n",
    "### Kategori BMI:\n",
    "1. **Underweight**: BMI < 18.5\n",
    "2. **Normal**: 18.5 ≤ BMI < 24.9\n",
    "3. **Overweight**: 25 ≤ BMI < 29.9\n",
    "4. **Obesity**: BMI ≥ 30"
   ]
  },
  {
   "cell_type": "markdown",
   "metadata": {
    "vscode": {
     "languageId": "plaintext"
    }
   },
   "source": [
    "## Penyelesaian"
   ]
  },
  {
   "cell_type": "code",
   "execution_count": 5,
   "metadata": {},
   "outputs": [
    {
     "name": "stdout",
     "output_type": "stream",
     "text": [
      "Berat badan: 69.0 kg\n",
      "Tinggi badan: 1.69 meter\n",
      "BMI Anda adalah 24.158817968558527. Kategori: Normal\n"
     ]
    }
   ],
   "source": [
    "# Langkah 1: Minta input dari pengguna\n",
    "berat_badan = float(input(\"Masukkan berat badan Anda (kg): \"))\n",
    "tinggi_badan = float(input(\"Masukkan tinggi badan Anda (meter): \"))\n",
    "\n",
    "print(f\"Berat badan: {berat_badan} kg\")\n",
    "print(f\"Tinggi badan: {tinggi_badan} meter\")\n",
    "\n",
    "# Langkah 2: Hitung BMI\n",
    "bmi = berat_badan / (tinggi_badan ** 2)\n",
    "\n",
    "# Langkah 3: Tentukan kategori BMI menggunakan kondisi\n",
    "if bmi < 18.5:\n",
    "    print(f\"BMI Anda adalah {bmi}. Kategori: Underweight\")\n",
    "elif 18.5 <= bmi < 24.9:\n",
    "    print(f\"BMI Anda adalah {bmi}. Kategori: Normal\")\n",
    "elif 25 <= bmi < 29.9:\n",
    "    print(f\"BMI Anda adalah {bmi}. Kategori: Overweight\")\n",
    "else:\n",
    "    print(f\"BMI Anda adalah {bmi}. Kategori: Obesity\")"
   ]
  }
 ],
 "metadata": {
  "kernelspec": {
   "display_name": "soft-comp-env",
   "language": "python",
   "name": "python3"
  },
  "language_info": {
   "codemirror_mode": {
    "name": "ipython",
    "version": 3
   },
   "file_extension": ".py",
   "mimetype": "text/x-python",
   "name": "python",
   "nbconvert_exporter": "python",
   "pygments_lexer": "ipython3",
   "version": "3.13.0"
  }
 },
 "nbformat": 4,
 "nbformat_minor": 2
}
