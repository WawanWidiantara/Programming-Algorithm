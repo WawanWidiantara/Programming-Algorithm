{
 "cells": [
  {
   "cell_type": "markdown",
   "metadata": {
    "vscode": {
     "languageId": "plaintext"
    }
   },
   "source": [
    "# Petunjuk Instalasi VS Code dan Python\n",
    "\n",
    "## 1. Unduh dan Instal VS Code\n",
    "\n",
    "Anda dapat mengunduh **Visual Studio Code (VS Code)** dari situs resmi melalui tautan di bawah ini:\n",
    "\n",
    "🔗 [**Unduh VS Code**](https://code.visualstudio.com/)"
   ]
  },
  {
   "cell_type": "markdown",
   "metadata": {
    "vscode": {
     "languageId": "plaintext"
    }
   },
   "source": [
    "## 2. Unduh dan Instal Python\n",
    "\n",
    "Untuk menjalankan kode Python, Anda perlu menginstal **Python**. Gunakan tautan berikut untuk mengunduh versi terbaru:\n",
    "\n",
    "🐍 [**Unduh Python**](https://www.python.org/)"
   ]
  },
  {
   "cell_type": "markdown",
   "metadata": {
    "vscode": {
     "languageId": "plaintext"
    }
   },
   "source": [
    "## 3. Tutorial Instalasi\n",
    "\n",
    "Untuk panduan langkah demi langkah, Anda dapat menonton tutorial berikut:\n",
    "\n",
    "### 📹 Tutorial Instalasi di Windows\n",
    "\n",
    "🔗 [Tonton tutorial instalasi di Windows](https://www.youtube.com/watch?v=ruOUYq1a0uA&list=LL&index=2)\n",
    "\n",
    "### 📹 Tutorial Instalasi di Mac\n",
    "\n",
    "🔗 [Tonton tutorial instalasi di Mac](https://www.youtube.com/watch?v=Zk7TG5BqxjY&list=LL&index=1)"
   ]
  },
  {
   "cell_type": "markdown",
   "metadata": {
    "vscode": {
     "languageId": "plaintext"
    }
   },
   "source": [
    "### Tips Tambahan\n",
    "\n",
    "Pastikan untuk mengikuti setiap langkah instalasi dengan teliti, dan periksa apakah versi Python sudah terintegrasi dengan baik di VS Code setelah instalasi selesai."
   ]
  }
 ],
 "metadata": {
  "language_info": {
   "name": "python"
  }
 },
 "nbformat": 4,
 "nbformat_minor": 2
}
