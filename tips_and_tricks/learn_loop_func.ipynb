{
 "cells": [
  {
   "cell_type": "markdown",
   "metadata": {},
   "source": [
    "## 1. Jumlah Kelipatan\n",
    "\n",
    "**Deskripsi**:  \n",
    "Buat sebuah fungsi bernama `sum_of_multiples` yang menerima satu argumen, `n`, berupa bilangan bulat positif. Fungsi ini harus menghitung jumlah dari semua bilangan di bawah `n` yang merupakan kelipatan dari 3 atau 5.\n",
    "\n",
    "Langkah-langkah:\n",
    "1. Inisialisasi variabel untuk menyimpan jumlah (sum).\n",
    "2. Gunakan `for` loop untuk melakukan iterasi pada setiap bilangan dari 0 hingga di bawah `n` (tidak termasuk `n`).\n",
    "3. Di setiap iterasi, periksa apakah bilangan tersebut habis dibagi 3 atau 5 menggunakan operator modulo (`%`).\n",
    "4. Jika kondisi terpenuhi, tambahkan bilangan tersebut ke jumlah total.\n",
    "5. Setelah loop selesai, kembalikan nilai total jumlah.\n",
    "\n",
    "**Contoh**:\n",
    "```python\n",
    "sum_of_multiples(10)  # Output yang diharapkan: 23\n",
    "```\n",
    "\n",
    "**Hasil yang Diharapkan**:\n",
    "Untuk input 10, hasilnya adalah 23 karena kelipatan dari 3 atau 5 di bawah 10 adalah 3, 5, 6, dan 9, dan jumlahnya adalah 23.\n",
    "\n"
   ]
  },
  {
   "cell_type": "markdown",
   "metadata": {
    "vscode": {
     "languageId": "plaintext"
    }
   },
   "source": [
    "##  2. Hitung Huruf Vokal dalam String\n",
    "\n",
    "**Deskripsi**:  \n",
    "Tulis sebuah fungsi bernama `count_vowels` yang menerima satu argumen berupa string `s`. Fungsi ini akan mengembalikan jumlah huruf vokal dalam string tersebut. Huruf vokal mencakup bentuk huruf besar dan kecil dari huruf: `a, e, i, o, u`.\n",
    "\n",
    "Langkah-langkah:\n",
    "1. Inisialisasi variabel penghitung dengan nilai nol.\n",
    "2. Lakukan loop untuk memeriksa setiap karakter dalam string.\n",
    "3. Periksa apakah karakter tersebut merupakan huruf vokal (bisa dilakukan dengan kondisi yang memeriksa apakah karakter tersebut ada dalam string atau list vokal, seperti `\"aeiouAEIOU\"`).\n",
    "4. Jika karakter adalah vokal, tambahkan penghitung sebesar satu.\n",
    "5. Setelah loop selesai, kembalikan nilai penghitung yang sekarang berisi jumlah total huruf vokal dalam string.\n",
    "\n",
    "**Contoh**:\n",
    "```python\n",
    "count_vowels(\"Hello World\")  # Output yang diharapkan: 3\n",
    "```\n",
    "\n",
    "**Hasil yang diharapkan**:\n",
    "Untuk input \"Hello World\", fungsi ini akan mengembalikan 3 karena terdapat tiga huruf vokal dalam string tersebut: e, o, dan o."
   ]
  }
 ],
 "metadata": {
  "language_info": {
   "name": "python"
  }
 },
 "nbformat": 4,
 "nbformat_minor": 2
}
