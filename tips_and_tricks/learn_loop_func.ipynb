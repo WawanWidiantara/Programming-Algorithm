{
 "cells": [
  {
   "cell_type": "markdown",
   "metadata": {},
   "source": [
    "## 1. Jumlah Kelipatan\n",
    "\n",
    "**Deskripsi**:  \n",
    "Buat sebuah fungsi bernama `sum_of_multiples` yang menerima satu argumen, `n`, berupa bilangan bulat positif. Fungsi ini harus menghitung jumlah dari semua bilangan di bawah `n` yang merupakan kelipatan dari 3 atau 5.\n",
    "\n",
    "Langkah-langkah:\n",
    "1. Inisialisasi variabel untuk menyimpan jumlah (sum).\n",
    "2. Gunakan `for` loop untuk melakukan iterasi pada setiap bilangan dari 0 hingga di bawah `n` (tidak termasuk `n`).\n",
    "3. Di setiap iterasi, periksa apakah bilangan tersebut habis dibagi 3 atau 5 menggunakan operator modulo (`%`).\n",
    "4. Jika kondisi terpenuhi, tambahkan bilangan tersebut ke jumlah total.\n",
    "5. Setelah loop selesai, kembalikan nilai total jumlah.\n",
    "\n",
    "**Contoh**:\n",
    "```python\n",
    "sum_of_multiples(10)  # Output yang diharapkan: 23\n",
    "```\n",
    "\n",
    "**Hasil yang Diharapkan**:\n",
    "Untuk input 10, hasilnya adalah 23 karena kelipatan dari 3 atau 5 di bawah 10 adalah 3, 5, 6, dan 9, dan jumlahnya adalah 23.\n",
    "\n"
   ]
  },
  {
   "cell_type": "markdown",
   "metadata": {
    "vscode": {
     "languageId": "plaintext"
    }
   },
   "source": [
    "## Penyelesaian"
   ]
  },
  {
   "cell_type": "code",
   "execution_count": 3,
   "metadata": {},
   "outputs": [
    {
     "name": "stdout",
     "output_type": "stream",
     "text": [
      "23\n"
     ]
    }
   ],
   "source": [
    "def sum_of_multiples(n):\n",
    "    sum_value = 0\n",
    "    for i in range(n):\n",
    "        if i % 3 == 0 or i % 5 == 0:\n",
    "            sum_value += i\n",
    "    return sum_value\n",
    "\n",
    "print(sum_of_multiples(10))"
   ]
  },
  {
   "cell_type": "markdown",
   "metadata": {
    "vscode": {
     "languageId": "plaintext"
    }
   },
   "source": [
    "##  2. Hitung Huruf Vokal dalam String\n",
    "\n",
    "**Deskripsi**:  \n",
    "Tulis sebuah fungsi bernama `count_vowels` yang menerima satu argumen berupa string `s`. Fungsi ini akan mengembalikan jumlah huruf vokal dalam string tersebut. Huruf vokal mencakup bentuk huruf besar dan kecil dari huruf: `a, e, i, o, u`.\n",
    "\n",
    "Langkah-langkah:\n",
    "1. Inisialisasi variabel penghitung dengan nilai nol.\n",
    "2. Lakukan loop untuk memeriksa setiap karakter dalam string.\n",
    "3. Periksa apakah karakter tersebut merupakan huruf vokal (bisa dilakukan dengan kondisi yang memeriksa apakah karakter tersebut ada dalam string atau list vokal, seperti `\"aeiouAEIOU\"`).\n",
    "4. Jika karakter adalah vokal, tambahkan penghitung sebesar satu.\n",
    "5. Setelah loop selesai, kembalikan nilai penghitung yang sekarang berisi jumlah total huruf vokal dalam string.\n",
    "\n",
    "**Contoh**:\n",
    "```python\n",
    "count_vowels(\"Hello World\")  # Output yang diharapkan: 3\n",
    "```\n",
    "\n",
    "**Hasil yang diharapkan**:\n",
    "Untuk input \"Hello World\", fungsi ini akan mengembalikan 3 karena terdapat tiga huruf vokal dalam string tersebut: e, o, dan o."
   ]
  },
  {
   "cell_type": "markdown",
   "metadata": {},
   "source": [
    "## Penyelesaian"
   ]
  },
  {
   "cell_type": "code",
   "execution_count": 5,
   "metadata": {},
   "outputs": [
    {
     "name": "stdout",
     "output_type": "stream",
     "text": [
      "3\n"
     ]
    }
   ],
   "source": [
    "def count_vowels(s):\n",
    "    count = 0\n",
    "    for char in s:\n",
    "        if char in 'aeiouAEIOU':\n",
    "            count += 1\n",
    "    return count\n",
    "\n",
    "print(count_vowels('Hello World'))"
   ]
  }
 ],
 "metadata": {
  "kernelspec": {
   "display_name": "soft-comp-env",
   "language": "python",
   "name": "python3"
  },
  "language_info": {
   "codemirror_mode": {
    "name": "ipython",
    "version": 3
   },
   "file_extension": ".py",
   "mimetype": "text/x-python",
   "name": "python",
   "nbconvert_exporter": "python",
   "pygments_lexer": "ipython3",
   "version": "3.13.0"
  }
 },
 "nbformat": 4,
 "nbformat_minor": 2
}
