{
 "cells": [
  {
   "cell_type": "markdown",
   "metadata": {
    "vscode": {
     "languageId": "plaintext"
    }
   },
   "source": [
    "# Pengenalan dan Penggunaan SQLite di Python\n",
    "### 1. **Pendahuluan**\n",
    "SQLite adalah sistem manajemen database ringan yang dapat digunakan langsung di dalam aplikasi Python tanpa memerlukan server terpisah. SQLite menyimpan data dalam file tunggal, sehingga sangat praktis untuk aplikasi kecil atau proyek yang tidak membutuhkan database besar.\n",
    "\n",
    "---\n",
    "### 2. **Instalasi SQLite**\n",
    "SQLite sudah terinstal secara default di Python melalui modul `sqlite3`. Anda tidak perlu menginstal apa pun untuk mulai menggunakan SQLite. Untuk memastikan SQLite sudah terpasang, Anda bisa mencoba mengimpor modul berikut di Python:"
   ]
  },
  {
   "cell_type": "code",
   "execution_count": 162,
   "metadata": {},
   "outputs": [],
   "source": [
    "import sqlite3"
   ]
  },
  {
   "cell_type": "markdown",
   "metadata": {
    "vscode": {
     "languageId": "plaintext"
    }
   },
   "source": [
    "Jika tidak ada error, itu berarti SQLite sudah siap digunakan."
   ]
  },
  {
   "cell_type": "markdown",
   "metadata": {},
   "source": [
    "Ekstensi vs code yang digunakan untuk melihat isi database sqlite:\n",
    "`SQLite Viewwer`"
   ]
  },
  {
   "cell_type": "markdown",
   "metadata": {},
   "source": [
    "---\n",
    "\n",
    "### 3. **Membuat Koneksi ke Database SQLite**"
   ]
  },
  {
   "cell_type": "code",
   "execution_count": 163,
   "metadata": {},
   "outputs": [],
   "source": [
    "# Membuat atau membuka database\n",
    "conn = sqlite3.connect('my_database.db')\n",
    "\n",
    "# Membuat objek cursor untuk mengeksekusi SQL\n",
    "cursor = conn.cursor()"
   ]
  },
  {
   "cell_type": "code",
   "execution_count": 164,
   "metadata": {},
   "outputs": [],
   "source": [
    "# Pastikan untuk selalu menutup koneksi setelah selesai bekerja\n",
    "conn.close()"
   ]
  },
  {
   "cell_type": "markdown",
   "metadata": {},
   "source": [
    "---\n",
    "\n",
    "### 4. **Membuat Tabel**\n",
    "Setelah berhasil terkoneksi, kita bisa membuat tabel dalam database dengan menggunakan perintah SQL `CREATE TABLE`."
   ]
  },
  {
   "cell_type": "code",
   "execution_count": 165,
   "metadata": {},
   "outputs": [],
   "source": [
    "# Membuka koneksi ke database\n",
    "conn = sqlite3.connect('my_database.db')\n",
    "cursor = conn.cursor()\n",
    "\n",
    "# Membuat tabel pengguna\n",
    "cursor.execute('''\n",
    "CREATE TABLE IF NOT EXISTS pengguna (\n",
    "    id INTEGER PRIMARY KEY AUTOINCREMENT,\n",
    "    nama TEXT NOT NULL,\n",
    "    usia INTEGER,\n",
    "    email TEXT UNIQUE\n",
    ")\n",
    "''')\n",
    "\n",
    "# Menyimpan perubahan dan menutup koneksi\n",
    "conn.commit()\n",
    "conn.close()"
   ]
  },
  {
   "cell_type": "markdown",
   "metadata": {},
   "source": [
    "Penjelasan SQL:\n",
    "\n",
    "- `id` `INTEGER` `PRIMARY KEY` `AUTOINCREMENT`: Kolom id adalah primary key yang otomatis bertambah setiap kali data baru dimasukkan.\n",
    "- `nama` `TEXT` `NOT NULL`: Kolom nama berjenis teks dan tidak boleh kosong.\n",
    "- `usia` `INTEGER`: Kolom usia berjenis integer.\n",
    "- `email` `TEXT` `UNIQUE`: Kolom email berjenis teks dan harus unik (tidak ada email yang duplikat)."
   ]
  },
  {
   "cell_type": "markdown",
   "metadata": {},
   "source": [
    "---\n",
    "\n",
    "### 5. **Menambahkan Data ke Tabel**\n",
    "Setelah tabel dibuat, kita bisa memasukkan data ke dalamnya menggunakan perintah `INSERT INTO`."
   ]
  },
  {
   "cell_type": "code",
   "execution_count": 166,
   "metadata": {},
   "outputs": [],
   "source": [
    "# Menambahkan Data ke Tabel\n",
    "# Membuka koneksi\n",
    "conn = sqlite3.connect('my_database.db')\n",
    "cursor = conn.cursor()\n",
    "\n",
    "# Menambahkan data pengguna\n",
    "cursor.execute('''\n",
    "INSERT INTO pengguna (nama, usia, email) \n",
    "VALUES ('Widi', 22, 'ali@example.com')\n",
    "''')\n",
    "\n",
    "# Menyimpan perubahan dan menutup koneksi\n",
    "conn.commit()\n",
    "conn.close()"
   ]
  },
  {
   "cell_type": "markdown",
   "metadata": {},
   "source": [
    "contoh memasukkan data dengan inputan user:"
   ]
  },
  {
   "cell_type": "code",
   "execution_count": 167,
   "metadata": {},
   "outputs": [],
   "source": [
    "# Membuka koneksi\n",
    "conn = sqlite3.connect('my_database.db')\n",
    "cursor = conn.cursor()\n",
    "\n",
    "# Meminta input dari pengguna\n",
    "nama = input('Masukkan nama: ')\n",
    "usia = int(input('Masukkan usia: '))\n",
    "email = input('Masukkan email: ')\n",
    "\n",
    "# Menambahkan data pengguna\n",
    "cursor.execute('''\n",
    "INSERT INTO pengguna (nama, usia, email)\n",
    "VALUES (?, ?, ?)\n",
    "''', (nama, usia, email))\n",
    "\n",
    "# Menyimpan perubahan dan menutup koneksi\n",
    "conn.commit()\n",
    "conn.close()"
   ]
  },
  {
   "cell_type": "markdown",
   "metadata": {},
   "source": [
    "---\n",
    "\n",
    "### 6. **Mengambil Data dari Tabel**\n",
    "Untuk mengambil data dari tabel, kita bisa menggunakan perintah SQL `SELECT`. Fungsi `fetchall()` atau `fetchone()` digunakan untuk mengambil hasil query.\n"
   ]
  },
  {
   "cell_type": "code",
   "execution_count": 168,
   "metadata": {},
   "outputs": [
    {
     "name": "stdout",
     "output_type": "stream",
     "text": [
      "(1, 'Widi', 22, 'ali@example.com')\n",
      "(2, 'Ilham', 22, 'ilham@mail.com')\n"
     ]
    }
   ],
   "source": [
    "# Mengambil Data dari Tabel\n",
    "# Membuka koneksi\n",
    "conn = sqlite3.connect('my_database.db')\n",
    "cursor = conn.cursor()\n",
    "\n",
    "# Mengambil semua data pengguna\n",
    "cursor.execute('SELECT * FROM pengguna')\n",
    "data_pengguna = cursor.fetchall()\n",
    "\n",
    "# Menampilkan data\n",
    "for pengguna in data_pengguna:\n",
    "    print(pengguna)\n",
    "\n",
    "# Menutup koneksi\n",
    "conn.close()"
   ]
  },
  {
   "cell_type": "markdown",
   "metadata": {},
   "source": [
    "Penjelasan:\n",
    "\n",
    "- `cursor.execute('SELECT * FROM pengguna')`: Mengambil semua baris data dari tabel pengguna.\n",
    "- `fetchall()`: Mengambil semua hasil query yang ada.\n",
    "- Jika Anda hanya ingin mengambil satu baris, Anda bisa menggunakan `fetchone()`."
   ]
  },
  {
   "cell_type": "markdown",
   "metadata": {},
   "source": [
    "---\n",
    "\n",
    "### 7. **Memperbarui Data dalam Tabel**\n",
    "Untuk memperbarui data dalam tabel, kita menggunakan perintah SQL `UPDATE`.\n",
    "Contoh memperbarui usia pengguna:"
   ]
  },
  {
   "cell_type": "code",
   "execution_count": 169,
   "metadata": {},
   "outputs": [
    {
     "name": "stdout",
     "output_type": "stream",
     "text": [
      "(1, 'Widi', 26, 'ali@example.com')\n",
      "(2, 'Ilham', 22, 'ilham@mail.com')\n"
     ]
    }
   ],
   "source": [
    "# Memperbarui Data dalam Tabel\n",
    "# Membuka koneksi\n",
    "conn = sqlite3.connect('my_database.db')\n",
    "cursor = conn.cursor()\n",
    "\n",
    "# Memperbarui data pengguna\n",
    "cursor.execute('''\n",
    "UPDATE pengguna \n",
    "SET usia = 26 \n",
    "WHERE nama = \"Widi\"\n",
    "''')\n",
    "\n",
    "# Menyimpan perubahan dan menutup koneksi\n",
    "conn.commit()\n",
    "\n",
    "# Menampilkan data\n",
    "cursor.execute('SELECT * FROM pengguna')\n",
    "data_pengguna = cursor.fetchall()\n",
    "for pengguna in data_pengguna:\n",
    "    print(pengguna)\n",
    "\n",
    "# Menutup koneksi\n",
    "conn.close()"
   ]
  },
  {
   "cell_type": "markdown",
   "metadata": {},
   "source": [
    "---\n",
    "\n",
    "### 8. **Menghapus Data dari Tabel**\n",
    "Untuk menghapus data dalam tabel, kita menggunakan perintah SQL `DELETE`. Contoh menghapus data pengguna:"
   ]
  },
  {
   "cell_type": "code",
   "execution_count": 170,
   "metadata": {},
   "outputs": [],
   "source": [
    "# Menghapus Data dari Tabel\n",
    "# Membuka koneksi\n",
    "conn = sqlite3.connect('my_database.db')\n",
    "cursor = conn.cursor()\n",
    "\n",
    "# Menghapus data pengguna\n",
    "cursor.execute('''\n",
    "DELETE FROM pengguna WHERE nama = 'Widi'\n",
    "''')\n",
    "\n",
    "# Menyimpan perubahan dan menutup koneksi\n",
    "conn.commit()\n",
    "conn.close()"
   ]
  }
 ],
 "metadata": {
  "kernelspec": {
   "display_name": "alpro-env",
   "language": "python",
   "name": "python3"
  },
  "language_info": {
   "codemirror_mode": {
    "name": "ipython",
    "version": 3
   },
   "file_extension": ".py",
   "mimetype": "text/x-python",
   "name": "python",
   "nbconvert_exporter": "python",
   "pygments_lexer": "ipython3",
   "version": "3.12.7"
  }
 },
 "nbformat": 4,
 "nbformat_minor": 2
}
