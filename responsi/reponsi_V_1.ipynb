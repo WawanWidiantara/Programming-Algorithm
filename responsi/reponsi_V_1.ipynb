{
 "cells": [
  {
   "cell_type": "markdown",
   "metadata": {},
   "source": [
    "# Responsi (UTS) kelas V batch 1\n",
    "Link Soal: https://docs.google.com/presentation/d/1sDElVKL65dRqkDnYIubOpRUs51-8r3619M_fUW_UzoI/edit#slide=id.g31050cb399a_0_0"
   ]
  },
  {
   "cell_type": "markdown",
   "metadata": {},
   "source": [
    "## Soal 1\n",
    "Metode Penilaian: Benar = 25; Salah = 20; Kosong = 0"
   ]
  },
  {
   "cell_type": "code",
   "execution_count": 2,
   "metadata": {},
   "outputs": [
    {
     "name": "stdout",
     "output_type": "stream",
     "text": [
      "Hasil yang benar: 955.6280936395311\n",
      "Hasil yang salah: 548.3168340199818\n"
     ]
    }
   ],
   "source": [
    "npm = float(input(\"Inputkan 3 NPM terakhir: \"))\n",
    "hasil = npm * (1 + (10/31))**(5+2) # pastikan penggunaan tanda kurung yang tepat\n",
    "print(f\"Hasil yang benar: {hasil}\")\n",
    "\n",
    "# contoh yang salah\n",
    "salah = npm * (1 + (10/31))**5+2\n",
    "print(f\"Hasil yang salah: {salah}\")"
   ]
  },
  {
   "cell_type": "markdown",
   "metadata": {},
   "source": [
    "## Soal 2\n",
    "Metode Penilaian: Benar = 35; Salah = 25; Kosong = 0"
   ]
  },
  {
   "cell_type": "code",
   "execution_count": 4,
   "metadata": {},
   "outputs": [
    {
     "name": "stdout",
     "output_type": "stream",
     "text": [
      "7 x 1 = 7\n",
      "7 x 2 = 14\n",
      "7 x 3 = 21\n",
      "7 x 4 = 28\n",
      "7 x 5 = 35\n",
      "7 x 6 = 42\n",
      "7 x 7 = 49\n",
      "7 x 8 = 56\n",
      "7 x 9 = 63\n",
      "7 x 10 = 70\n"
     ]
    }
   ],
   "source": [
    "for i in range(1,11):\n",
    "    print(f\"7 x {i} = {7*i}\")"
   ]
  },
  {
   "cell_type": "markdown",
   "metadata": {},
   "source": [
    "## Soal 3\n",
    "Metode Penilaian: Benar = 30; Salah = 20; Kosong = 0"
   ]
  },
  {
   "cell_type": "code",
   "execution_count": 5,
   "metadata": {},
   "outputs": [
    {
     "name": "stdout",
     "output_type": "stream",
     "text": [
      "False\n"
     ]
    }
   ],
   "source": [
    "def konversi_suhu(celcius):\n",
    "    fahrenheit = celcius * 9/5 + 32\n",
    "    return fahrenheit\n",
    "\n",
    "celcius = 30\n",
    "hasil_konversi = konversi_suhu(30)\n",
    "\n",
    "perbandingan = hasil_konversi >= hasil\n",
    "print(perbandingan)"
   ]
  },
  {
   "cell_type": "markdown",
   "metadata": {},
   "source": [
    "## Soal 4\n",
    "Metode Penilaian: Benar = 10; Salah = 0; Kosong = 0"
   ]
  },
  {
   "cell_type": "code",
   "execution_count": 9,
   "metadata": {},
   "outputs": [
    {
     "name": "stdout",
     "output_type": "stream",
     "text": [
      "Masukkan bilangan bulat:  2\n",
      "Tidak ada transformasi yang diterapkan\n"
     ]
    }
   ],
   "source": [
    "bilangan_bulat = int(input(\"Masukkan bilangan bulat: \"))\n",
    "print(\"Masukkan bilangan bulat: \", bilangan_bulat)\n",
    "\n",
    "# Clue:\n",
    "# Jika genap berarti habis dibagi 2\n",
    "# Jika ganjil berarti tidak habis dibagi 2\n",
    "\n",
    "if bilangan_bulat % 2 == 0 and bilangan_bulat % 3 == 0:\n",
    "    bilangan_bulat += 6\n",
    "    print(bilangan_bulat)\n",
    "    # atau bisa juga dengan cara berikut\n",
    "    # print(bilangan_bulat + 6)\n",
    "elif bilangan_bulat % 2 != 0 and bilangan_bulat % 5 == 0:\n",
    "    bilangan_bulat += 12\n",
    "    print(bilangan_bulat)\n",
    "    # atau bisa juga dengan cara berikut\n",
    "    # print(bilangan_bulat - 3)\n",
    "else:\n",
    "    print(\"Tidak ada transformasi yang diterapkan\")"
   ]
  },
  {
   "cell_type": "markdown",
   "metadata": {},
   "source": [
    "## Soal 5\n",
    "Metode Penilaian: Benar = 10; Salah = -10; Kosong = 0"
   ]
  },
  {
   "cell_type": "code",
   "execution_count": 10,
   "metadata": {},
   "outputs": [
    {
     "name": "stdout",
     "output_type": "stream",
     "text": [
      "2\n"
     ]
    }
   ],
   "source": [
    "def find_lowest(num1, num2, num3):\n",
    "    if num1 < num2 and num1 < num3:\n",
    "        return num1\n",
    "    elif num2 < num1 and num2 < num3:\n",
    "        return num2\n",
    "    else:\n",
    "        return num3\n",
    "\n",
    "# Alternatif cara lain\n",
    "def find_lowest_alternative(num1, num2, num3):\n",
    "    return min(num1, num2, num3)\n",
    "\n",
    "print(find_lowest(3, 2, 3))"
   ]
  }
 ],
 "metadata": {
  "kernelspec": {
   "display_name": "soft-comp-env",
   "language": "python",
   "name": "python3"
  },
  "language_info": {
   "codemirror_mode": {
    "name": "ipython",
    "version": 3
   },
   "file_extension": ".py",
   "mimetype": "text/x-python",
   "name": "python",
   "nbconvert_exporter": "python",
   "pygments_lexer": "ipython3",
   "version": "3.13.0"
  }
 },
 "nbformat": 4,
 "nbformat_minor": 2
}
