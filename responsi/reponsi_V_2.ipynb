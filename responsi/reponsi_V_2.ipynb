{
 "cells": [
  {
   "cell_type": "markdown",
   "metadata": {},
   "source": [
    "# Responsi (UTS) kelas V batch 2\n",
    "Link Soal: https://docs.google.com/presentation/d/1R1hs7ZNaWGw4AVA0581Y3QEieGkWUdW9aUj5UVuo3Ug/edit#slide=id.p"
   ]
  },
  {
   "cell_type": "markdown",
   "metadata": {},
   "source": [
    "## Soal 1\n",
    "Metode Penilaian: Benar = 25; Salah = 20; Kosong = 0"
   ]
  },
  {
   "cell_type": "code",
   "execution_count": 1,
   "metadata": {},
   "outputs": [
    {
     "name": "stdout",
     "output_type": "stream",
     "text": [
      "Hasil yang benar: 12731.538461538461\n",
      "Hasil yang salah: 445240.3846153846\n"
     ]
    }
   ],
   "source": [
    "npm = float(input(\"Inputkan 3 NPM terakhir: \"))\n",
    "hasil = (npm * (1 + 35**(3-1)))/13 # pastikan penggunaan tanda kurung yang tepat\n",
    "print(f\"Hasil yang benar: {hasil}\")\n",
    "\n",
    "# contoh yang salah\n",
    "salah = (npm * (1 + 35**3-1))/13\n",
    "print(f\"Hasil yang salah: {salah}\")"
   ]
  },
  {
   "cell_type": "markdown",
   "metadata": {},
   "source": [
    "## Soal 2\n",
    "Metode Penilaian: Benar = 35; Salah = 25; Kosong = 0"
   ]
  },
  {
   "cell_type": "code",
   "execution_count": 4,
   "metadata": {},
   "outputs": [
    {
     "name": "stdout",
     "output_type": "stream",
     "text": [
      "3 + 13 / 4 = 6.25\n",
      "4 + 13 / 5 = 6.6\n",
      "5 + 13 / 6 = 7.166666666666666\n",
      "6 + 13 / 7 = 7.857142857142858\n",
      "7 + 13 / 8 = 8.625\n",
      "8 + 13 / 9 = 9.444444444444445\n",
      "9 + 13 / 10 = 10.3\n",
      "10 + 13 / 11 = 11.181818181818182\n"
     ]
    }
   ],
   "source": [
    "for i in range(3,11):\n",
    "    print(f\"{i} + 13 / {i+1} = {i + 13 / (i+1)}\")"
   ]
  },
  {
   "cell_type": "markdown",
   "metadata": {},
   "source": [
    "## Soal 3\n",
    "Metode Penilaian: Benar = 30; Salah = 20; Kosong = 0"
   ]
  },
  {
   "cell_type": "code",
   "execution_count": 6,
   "metadata": {},
   "outputs": [
    {
     "name": "stdout",
     "output_type": "stream",
     "text": [
      "True\n"
     ]
    }
   ],
   "source": [
    "def luas_lingkaran(r):\n",
    "    luas = (22/7) * (r**2)\n",
    "    return luas\n",
    "\n",
    "r = 49\n",
    "hasil_luas = luas_lingkaran(30)\n",
    "\n",
    "perbandingan = hasil_luas < hasil\n",
    "print(perbandingan)"
   ]
  },
  {
   "cell_type": "markdown",
   "metadata": {},
   "source": [
    "## Soal 4\n",
    "Metode Penilaian: Benar = 10; Salah = 0; Kosong = 0"
   ]
  },
  {
   "cell_type": "code",
   "execution_count": 7,
   "metadata": {},
   "outputs": [
    {
     "name": "stdout",
     "output_type": "stream",
     "text": [
      "Masukkan bilangan bulat:  2\n",
      "Tidak ada transformasi yang diterapkan\n"
     ]
    }
   ],
   "source": [
    "bilangan_bulat = int(input(\"Masukkan bilangan bulat: \"))\n",
    "print(\"Masukkan bilangan bulat: \", bilangan_bulat)\n",
    "\n",
    "# Clue:\n",
    "# Jika genap berarti habis dibagi 2\n",
    "# Jika ganjil berarti tidak habis dibagi 2\n",
    "\n",
    "if bilangan_bulat % 2 != 0 and bilangan_bulat % 3 == 0:\n",
    "    bilangan_bulat /= 2\n",
    "    print(bilangan_bulat)\n",
    "    # atau bisa juga dengan cara berikut\n",
    "    # print(bilangan_bulat / 2)\n",
    "elif bilangan_bulat % 2 == 0 and bilangan_bulat % 5 == 0:\n",
    "    bilangan_bulat *= 12\n",
    "    print(bilangan_bulat)\n",
    "    # atau bisa juga dengan cara berikut\n",
    "    # print(bilangan_bulat * 3)\n",
    "else:\n",
    "    print(\"Tidak ada transformasi yang diterapkan\")"
   ]
  },
  {
   "cell_type": "markdown",
   "metadata": {},
   "source": [
    "## Soal 5\n",
    "Metode Penilaian: Benar = 10; Salah = -10; Kosong = 0"
   ]
  },
  {
   "cell_type": "code",
   "execution_count": 9,
   "metadata": {},
   "outputs": [
    {
     "name": "stdout",
     "output_type": "stream",
     "text": [
      "3\n"
     ]
    }
   ],
   "source": [
    "def find_highest(num1, num2, num3):\n",
    "    if num1 > num2 and num1 > num3:\n",
    "        return num1\n",
    "    elif num2 > num1 and num2 > num3:\n",
    "        return num2\n",
    "    else:\n",
    "        return num3\n",
    "\n",
    "# Alternatif cara lain\n",
    "def find_highest_alternative(num1, num2, num3):\n",
    "    return max(num1, num2, num3)\n",
    "\n",
    "print(find_highest(1, 2, 3))"
   ]
  }
 ],
 "metadata": {
  "kernelspec": {
   "display_name": "soft-comp-env",
   "language": "python",
   "name": "python3"
  },
  "language_info": {
   "codemirror_mode": {
    "name": "ipython",
    "version": 3
   },
   "file_extension": ".py",
   "mimetype": "text/x-python",
   "name": "python",
   "nbconvert_exporter": "python",
   "pygments_lexer": "ipython3",
   "version": "3.13.0"
  }
 },
 "nbformat": 4,
 "nbformat_minor": 2
}
