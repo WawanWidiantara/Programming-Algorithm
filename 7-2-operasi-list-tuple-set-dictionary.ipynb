{
 "cells": [
  {
   "cell_type": "markdown",
   "metadata": {},
   "source": [
    "# Operasi pada List, Tuple, Set, dan Dictionary\n",
    "\n",
    "## Pendahuluan\n",
    "Setelah mempelajari cara mendefinisikan dan menggunakan **List**, **Tuple**, **Set**, dan **Dictionary**, sekarang kita akan melihat berbagai operasi yang dapat dilakukan pada masing-masing struktur data tersebut. Operasi ini meliputi operasi dasar seperti penambahan, penghapusan, pencarian, dan lainnya.\n",
    "\n",
    "---\n",
    "\n",
    "## 1. Operasi pada List\n",
    "\n",
    "### Menambahkan Elemen ke dalam List\n",
    "Untuk menambahkan elemen baru ke dalam list, kita bisa menggunakan beberapa metode, seperti `append()`, `insert()`, atau `extend()`.\n"
   ]
  },
  {
   "cell_type": "code",
   "execution_count": 1,
   "metadata": {},
   "outputs": [
    {
     "name": "stdout",
     "output_type": "stream",
     "text": [
      "['apel', 'pisang', 'jeruk', 'mangga']\n",
      "['apel', 'semangka', 'pisang', 'jeruk', 'mangga']\n",
      "['apel', 'semangka', 'pisang', 'jeruk', 'mangga', 'durian', 'salak']\n"
     ]
    }
   ],
   "source": [
    "buah = [\"apel\", \"pisang\", \"jeruk\"]\n",
    "\n",
    "# append() menambahkan elemen ke akhir list\n",
    "buah.append(\"mangga\")\n",
    "print(buah)  # Output: ['apel', 'pisang', 'jeruk', 'mangga']\n",
    "\n",
    "# insert() menyisipkan elemen di posisi tertentu\n",
    "buah.insert(1, \"semangka\")\n",
    "print(buah)  # Output: ['apel', 'semangka', 'pisang', 'jeruk', 'mangga']\n",
    "\n",
    "# extend() menambahkan elemen dari list lain\n",
    "buah.extend([\"durian\", \"salak\"])\n",
    "print(buah)  # Output: ['apel', 'semangka', 'pisang', 'jeruk', 'mangga', 'durian', 'salak']"
   ]
  },
  {
   "cell_type": "markdown",
   "metadata": {},
   "source": [
    "### Menghapus Elemen dari List\n",
    "Ada beberapa cara untuk menghapus elemen dari list: `remove()`, `pop()`, dan `clear()`."
   ]
  },
  {
   "cell_type": "code",
   "execution_count": 2,
   "metadata": {},
   "outputs": [
    {
     "name": "stdout",
     "output_type": "stream",
     "text": [
      "['apel', 'semangka', 'jeruk', 'mangga', 'durian', 'salak']\n",
      "['apel', 'semangka', 'mangga', 'durian', 'salak']\n",
      "[]\n"
     ]
    }
   ],
   "source": [
    "buah.remove(\"pisang\")  # Menghapus elemen dengan nilai \"pisang\"\n",
    "print(buah)  # Output: ['apel', 'semangka', 'jeruk', 'mangga', 'durian', 'salak']\n",
    "\n",
    "buah.pop(2)  # Menghapus elemen pada indeks ke-2\n",
    "print(buah)  # Output: ['apel', 'semangka', 'mangga', 'durian', 'salak']\n",
    "\n",
    "buah.clear()  # Menghapus semua elemen dalam list\n",
    "print(buah)  # Output: []"
   ]
  },
  {
   "cell_type": "markdown",
   "metadata": {},
   "source": [
    "### Operasi Lain pada List\n",
    "Selain itu, list mendukung operasi lain seperti slicing, concatenation, dan pengulangan."
   ]
  },
  {
   "cell_type": "code",
   "execution_count": 3,
   "metadata": {},
   "outputs": [
    {
     "name": "stdout",
     "output_type": "stream",
     "text": [
      "['apel', 'pisang', 'jeruk', 'mangga']\n",
      "['apel', 'apel', 'apel']\n",
      "['pisang', 'jeruk']\n"
     ]
    }
   ],
   "source": [
    "# Menggabungkan dua list\n",
    "buah_1 = [\"apel\", \"pisang\"]\n",
    "buah_2 = [\"jeruk\", \"mangga\"]\n",
    "buah_total = buah_1 + buah_2\n",
    "print(buah_total)  # Output: ['apel', 'pisang', 'jeruk', 'mangga']\n",
    "\n",
    "# Menggandakan elemen list\n",
    "buah_3 = [\"apel\"] * 3\n",
    "print(buah_3)  # Output: ['apel', 'apel', 'apel']\n",
    "\n",
    "# Mengambil bagian dari list (slicing)\n",
    "buah = [\"apel\", \"pisang\", \"jeruk\", \"mangga\"]\n",
    "print(buah[1:3])  # Output: ['pisang', 'jeruk']"
   ]
  },
  {
   "cell_type": "markdown",
   "metadata": {},
   "source": [
    "---\n",
    "\n",
    "## 2. Operasi pada Tuple\n",
    "Tuple memiliki operasi yang serupa dengan list, tetapi ingat bahwa tuple tidak dapat diubah (immutable) setelah didefinisikan, jadi operasi seperti `append()`, `remove()`, atau `insert()` tidak tersedia.\n",
    "\n",
    "### Mengakses dan Menggunakan Indeks\n",
    "Tuple mendukung pengaksesan elemen menggunakan indeks."
   ]
  },
  {
   "cell_type": "code",
   "execution_count": 4,
   "metadata": {},
   "outputs": [
    {
     "name": "stdout",
     "output_type": "stream",
     "text": [
      "10\n",
      "30\n"
     ]
    }
   ],
   "source": [
    "koordinat = (10, 20, 30)\n",
    "print(koordinat[0])  # Output: 10\n",
    "print(koordinat[-1])  # Output: 30"
   ]
  },
  {
   "cell_type": "markdown",
   "metadata": {},
   "source": [
    "### Menggabungkan dan Menggandakan Tuple\n",
    "Seperti list, kita bisa menggabungkan dan menggandakan tuple."
   ]
  },
  {
   "cell_type": "code",
   "execution_count": 5,
   "metadata": {},
   "outputs": [
    {
     "name": "stdout",
     "output_type": "stream",
     "text": [
      "(1, 2, 3, 4)\n",
      "(1, 2, 1, 2)\n"
     ]
    }
   ],
   "source": [
    "tuple_1 = (1, 2)\n",
    "tuple_2 = (3, 4)\n",
    "tuple_total = tuple_1 + tuple_2  # Menggabungkan\n",
    "print(tuple_total)  # Output: (1, 2, 3, 4)\n",
    "\n",
    "tuple_ganda = tuple_1 * 2  # Menggandakan\n",
    "print(tuple_ganda)  # Output: (1, 2, 1, 2)"
   ]
  },
  {
   "cell_type": "markdown",
   "metadata": {},
   "source": [
    "### Menghitung dan Mencari Elemen dalam Tuple\n",
    "Beberapa operasi seperti pencarian elemen dan menghitung jumlah kemunculan elemen juga didukung oleh tuple."
   ]
  },
  {
   "cell_type": "code",
   "execution_count": 6,
   "metadata": {},
   "outputs": [
    {
     "name": "stdout",
     "output_type": "stream",
     "text": [
      "1\n",
      "2\n"
     ]
    }
   ],
   "source": [
    "print(koordinat.count(20))  # Output: 1, menghitung jumlah kemunculan 20\n",
    "print(koordinat.index(30))  # Output: 2, mencari indeks dari nilai 30"
   ]
  },
  {
   "cell_type": "markdown",
   "metadata": {},
   "source": [
    "## 3. Operasi pada Set\n",
    "**Set** memiliki beberapa operasi unik karena set tidak memiliki urutan dan tidak bisa mengandung elemen duplikat.\n",
    "\n",
    "### Menambahkan dan Menghapus Elemen\n",
    "Set memiliki metode `add()` untuk menambahkan elemen, dan `remove()` atau `discard()` untuk menghapus elemen."
   ]
  },
  {
   "cell_type": "code",
   "execution_count": 7,
   "metadata": {},
   "outputs": [
    {
     "name": "stdout",
     "output_type": "stream",
     "text": [
      "{1, 2, 3, 4}\n",
      "{1, 3, 4}\n",
      "{1, 3, 4}\n"
     ]
    }
   ],
   "source": [
    "angka = {1, 2, 3}\n",
    "\n",
    "angka.add(4)  # Menambahkan elemen 4\n",
    "print(angka)  # Output: {1, 2, 3, 4}\n",
    "\n",
    "angka.remove(2)  # Menghapus elemen 2\n",
    "print(angka)  # Output: {1, 3, 4}\n",
    "\n",
    "angka.discard(5)  # Tidak ada error jika elemen 5 tidak ditemukan\n",
    "print(angka)  # Output: {1, 3, 4}"
   ]
  },
  {
   "cell_type": "markdown",
   "metadata": {},
   "source": [
    "## Operasi Aritmatika pada Set\n",
    "Set mendukung beberapa operasi set matematika seperti union, intersection, difference, dan symmetric difference."
   ]
  },
  {
   "cell_type": "code",
   "execution_count": 8,
   "metadata": {},
   "outputs": [
    {
     "name": "stdout",
     "output_type": "stream",
     "text": [
      "{1, 2, 3, 4, 5, 6}\n",
      "{3, 4}\n",
      "{1, 2}\n",
      "{1, 2, 5, 6}\n"
     ]
    }
   ],
   "source": [
    "set_a = {1, 2, 3, 4}\n",
    "set_b = {3, 4, 5, 6}\n",
    "\n",
    "# Union (gabungan dua set)\n",
    "union_set = set_a | set_b\n",
    "print(union_set)  # Output: {1, 2, 3, 4, 5, 6}\n",
    "\n",
    "# Intersection (irisan dua set)\n",
    "intersection_set = set_a & set_b\n",
    "print(intersection_set)  # Output: {3, 4}\n",
    "\n",
    "# Difference (selisih dua set)\n",
    "difference_set = set_a - set_b\n",
    "print(difference_set)  # Output: {1, 2}\n",
    "\n",
    "# Symmetric Difference (selisih simetris)\n",
    "sym_diff_set = set_a ^ set_b\n",
    "print(sym_diff_set)  # Output: {1, 2, 5, 6}"
   ]
  },
  {
   "cell_type": "markdown",
   "metadata": {},
   "source": [
    "## 4. Operasi pada Dictionary\n",
    "Dictionary memungkinkan kita untuk melakukan berbagai operasi dengan pasangan **key-value**.\n",
    "\n",
    "### Mengakses dan Mengubah Nilai\n",
    "Untuk mengakses dan mengubah nilai dalam dictionary, kita menggunakan key."
   ]
  },
  {
   "cell_type": "code",
   "execution_count": 9,
   "metadata": {},
   "outputs": [
    {
     "name": "stdout",
     "output_type": "stream",
     "text": [
      "Andi\n",
      "{'nama': 'Andi', 'umur': 21}\n"
     ]
    }
   ],
   "source": [
    "siswa = {\"nama\": \"Andi\", \"umur\": 20}\n",
    "\n",
    "# Mengakses nilai berdasarkan key\n",
    "print(siswa[\"nama\"])  # Output: Andi\n",
    "\n",
    "# Mengubah nilai\n",
    "siswa[\"umur\"] = 21\n",
    "print(siswa)  # Output: {'nama': 'Andi', 'umur': 21}"
   ]
  },
  {
   "cell_type": "markdown",
   "metadata": {},
   "source": [
    "### Menambahkan dan Menghapus Elemen\n",
    "Kita bisa menambahkan elemen baru atau menghapus elemen dengan menggunakan `del` atau `pop()`."
   ]
  },
  {
   "cell_type": "code",
   "execution_count": 10,
   "metadata": {},
   "outputs": [
    {
     "name": "stdout",
     "output_type": "stream",
     "text": [
      "{'nama': 'Andi', 'umur': 21, 'alamat': 'Jakarta'}\n",
      "{'nama': 'Andi', 'umur': 21}\n",
      "{'nama': 'Andi'}\n",
      "Umur yang dihapus: 21\n"
     ]
    }
   ],
   "source": [
    "# Menambahkan elemen\n",
    "siswa[\"alamat\"] = \"Jakarta\"\n",
    "print(siswa)  # Output: {'nama': 'Andi', 'umur': 21, 'alamat': 'Jakarta'}\n",
    "\n",
    "# Menghapus elemen dengan key tertentu\n",
    "del siswa[\"alamat\"]\n",
    "print(siswa)  # Output: {'nama': 'Andi', 'umur': 21}\n",
    "\n",
    "# Menghapus elemen dan mengambil nilainya\n",
    "umur = siswa.pop(\"umur\")\n",
    "print(siswa)  # Output: {'nama': 'Andi'}\n",
    "print(\"Umur yang dihapus:\", umur)  # Output: 21"
   ]
  },
  {
   "cell_type": "markdown",
   "metadata": {},
   "source": [
    "### Menggunakan Metode pada Dictionary\n",
    "Beberapa metode penting yang bisa digunakan pada dictionary adalah:\n",
    "\n",
    "- `keys()` untuk mendapatkan semua kunci.\n",
    "- `values()` untuk mendapatkan semua nilai.\n",
    "- `items()` untuk mendapatkan semua pasangan key-value."
   ]
  },
  {
   "cell_type": "code",
   "execution_count": 11,
   "metadata": {},
   "outputs": [
    {
     "name": "stdout",
     "output_type": "stream",
     "text": [
      "dict_keys(['nama', 'umur'])\n",
      "dict_values(['Andi', 21])\n",
      "dict_items([('nama', 'Andi'), ('umur', 21)])\n"
     ]
    }
   ],
   "source": [
    "siswa = {\"nama\": \"Andi\", \"umur\": 21}\n",
    "\n",
    "print(siswa.keys())   # Output: dict_keys(['nama', 'umur'])\n",
    "print(siswa.values()) # Output: dict_values(['Andi', 21])\n",
    "print(siswa.items())  # Output: dict_items([('nama', 'Andi'), ('umur', 21)])"
   ]
  }
 ],
 "metadata": {
  "kernelspec": {
   "display_name": "alpro-env",
   "language": "python",
   "name": "python3"
  },
  "language_info": {
   "codemirror_mode": {
    "name": "ipython",
    "version": 3
   },
   "file_extension": ".py",
   "mimetype": "text/x-python",
   "name": "python",
   "nbconvert_exporter": "python",
   "pygments_lexer": "ipython3",
   "version": "3.12.7"
  }
 },
 "nbformat": 4,
 "nbformat_minor": 2
}
