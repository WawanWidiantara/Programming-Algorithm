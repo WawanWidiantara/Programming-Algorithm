{
 "cells": [
  {
   "cell_type": "markdown",
   "metadata": {},
   "source": [
    "# Input dan Operator di Python\n",
    "\n",
    "## 1. Input dari Pengguna\n",
    "\n",
    "Untuk menerima input dari pengguna, Python menggunakan fungsi `input()`. Nilai yang dimasukkan pengguna akan selalu dianggap sebagai string. Kita bisa mengubah tipe datanya sesuai kebutuhan.\n",
    "\n",
    "### Contoh:"
   ]
  },
  {
   "cell_type": "code",
   "execution_count": 1,
   "metadata": {},
   "outputs": [
    {
     "name": "stdout",
     "output_type": "stream",
     "text": [
      "Nama: Widi, Umur: 22\n"
     ]
    }
   ],
   "source": [
    "# Meminta input nama dari pengguna\n",
    "nama = input(\"Masukkan nama Anda: \")\n",
    "umur = int(input(\"Masukkan umur Anda: \"))  # Mengubah input menjadi integer\n",
    "\n",
    "print(f\"Nama: {nama}, Umur: {umur}\")"
   ]
  },
  {
   "cell_type": "markdown",
   "metadata": {},
   "source": [
    "## 2. Operator Aritmetika\n",
    "Operator aritmetika digunakan untuk melakukan operasi matematis dasar seperti penjumlahan, pengurangan, perkalian, dan sebagainya.\n",
    "\n",
    "Daftar Operator Aritmetika:\n",
    "- `+` : Penjumlahan\n",
    "- `-` : Pengurangan\n",
    "- `*` : Perkalian\n",
    "- `/` : Pembagian\n",
    "- `%` : Modulus (sisa pembagian)\n",
    "- `**` : Eksponensial (pangkat)\n",
    "- `//` : Pembagian bulat\n",
    "\n",
    "### Contoh:"
   ]
  },
  {
   "cell_type": "code",
   "execution_count": 2,
   "metadata": {},
   "outputs": [
    {
     "name": "stdout",
     "output_type": "stream",
     "text": [
      "Penjumlahan: 13\n",
      "Pengurangan: 7\n",
      "Perkalian: 30\n",
      "Pembagian: 3.3333333333333335\n",
      "Modulus: 1\n",
      "Eksponen: 1000\n",
      "Pembagian Bulat: 3\n"
     ]
    }
   ],
   "source": [
    "# Contoh penggunaan operator aritmetika\n",
    "a = 10\n",
    "b = 3\n",
    "\n",
    "penjumlahan = a + b\n",
    "pengurangan = a - b\n",
    "perkalian = a * b\n",
    "pembagian = a / b\n",
    "modulus = a % b\n",
    "eksponen = a ** b\n",
    "pembagian_bulat = a // b\n",
    "\n",
    "print(f\"Penjumlahan: {penjumlahan}\")\n",
    "print(f\"Pengurangan: {pengurangan}\")\n",
    "print(f\"Perkalian: {perkalian}\")\n",
    "print(f\"Pembagian: {pembagian}\")\n",
    "print(f\"Modulus: {modulus}\")\n",
    "print(f\"Eksponen: {eksponen}\")\n",
    "print(f\"Pembagian Bulat: {pembagian_bulat}\")"
   ]
  },
  {
   "cell_type": "markdown",
   "metadata": {},
   "source": [
    "## 3. Operator Perbandingan\n",
    "Operator perbandingan digunakan untuk membandingkan dua nilai. Hasilnya adalah True atau False.\n",
    "\n",
    "Daftar Operator Perbandingan:\n",
    "- **=** : Sama dengan\n",
    "- **=** : Tidak sama dengan\n",
    "- **>** : Lebih besar\n",
    "- **<** : Lebih kecil\n",
    "- **>=** : Lebih besar atau sama dengan\n",
    "- **<=** : Lebih kecil atau sama dengan\n",
    "\n",
    "### Contoh:"
   ]
  },
  {
   "cell_type": "code",
   "execution_count": 3,
   "metadata": {},
   "outputs": [
    {
     "name": "stdout",
     "output_type": "stream",
     "text": [
      "False\n",
      "True\n",
      "False\n",
      "True\n",
      "False\n",
      "True\n"
     ]
    }
   ],
   "source": [
    "# Contoh penggunaan operator perbandingan\n",
    "x = 5\n",
    "y = 8\n",
    "\n",
    "print(x == y)  # False\n",
    "print(x != y)  # True\n",
    "print(x > y)   # False\n",
    "print(x < y)   # True\n",
    "print(x >= y)  # False\n",
    "print(x <= y)  # True"
   ]
  },
  {
   "cell_type": "markdown",
   "metadata": {},
   "source": [
    "## 4. Operator Logika\n",
    "Operator logika digunakan untuk menggabungkan dua atau lebih kondisi perbandingan.\n",
    "\n",
    "Daftar Operator Logika:\n",
    "- `and` : Mengembalikan `True` jika kedua kondisi benar\n",
    "- `or` : Mengembalikan `True` jika salah satu kondisi benar\n",
    "- `not` : Membalik nilai kondisi, `True` menjadi `False`, dan sebaliknya\n",
    "\n",
    "### Contoh:"
   ]
  },
  {
   "cell_type": "code",
   "execution_count": 5,
   "metadata": {},
   "outputs": [
    {
     "name": "stdout",
     "output_type": "stream",
     "text": [
      "True\n",
      "True\n",
      "False\n"
     ]
    }
   ],
   "source": [
    "# Contoh penggunaan operator logika\n",
    "x = 10\n",
    "y = 5\n",
    "\n",
    "print(x > 7 and y < 10)  # True, karena kedua kondisi benar\n",
    "print(x > 7 or y > 10)   # True, karena salah satu kondisi benar\n",
    "print(not(x > 7))        # False, karena x > 7 adalah True, jadi dibalik menjadi False"
   ]
  },
  {
   "cell_type": "markdown",
   "metadata": {},
   "source": [
    "## 5. Operator Penugasan (Assignment)\n",
    "Operator penugasan digunakan untuk menetapkan nilai ke variabel.\n",
    "\n",
    "Daftar Operator Penugasan:\n",
    "- `=` : Menetapkan nilai\n",
    "- `+=` : Menambah dan menetapkan nilai\n",
    "- `-=` : Mengurangi dan menetapkan nilai\n",
    "- `*=` : Mengalikan dan menetapkan nilai\n",
    "- `/=` : Membagi dan menetapkan nilai\n",
    "- `%=` : Modulus dan menetapkan nilai\n",
    "- `**=` : Pangkat dan menetapkan nilai\n",
    "- `//=` : Pembagian bulat dan menetapkan nilai"
   ]
  },
  {
   "cell_type": "code",
   "execution_count": 6,
   "metadata": {},
   "outputs": [
    {
     "name": "stdout",
     "output_type": "stream",
     "text": [
      "Nilai awal a: 5\n",
      "Setelah a += 3: 8\n",
      "Setelah a *= 2: 16\n",
      "Setelah a -= 4: 12\n"
     ]
    }
   ],
   "source": [
    "# Contoh penggunaan operator assignment\n",
    "a = 5\n",
    "print(f\"Nilai awal a: {a}\")\n",
    "\n",
    "a += 3  # Sama dengan a = a + 3\n",
    "print(f\"Setelah a += 3: {a}\")\n",
    "\n",
    "a *= 2  # Sama dengan a = a * 2\n",
    "print(f\"Setelah a *= 2: {a}\")\n",
    "\n",
    "a -= 4  # Sama dengan a = a - 4\n",
    "print(f\"Setelah a -= 4: {a}\")\n"
   ]
  }
 ],
 "metadata": {
  "kernelspec": {
   "display_name": "soft-comp-env",
   "language": "python",
   "name": "python3"
  },
  "language_info": {
   "codemirror_mode": {
    "name": "ipython",
    "version": 3
   },
   "file_extension": ".py",
   "mimetype": "text/x-python",
   "name": "python",
   "nbconvert_exporter": "python",
   "pygments_lexer": "ipython3",
   "version": "3.13.0"
  }
 },
 "nbformat": 4,
 "nbformat_minor": 2
}
