{
 "cells": [
  {
   "cell_type": "markdown",
   "metadata": {},
   "source": [
    "# Looping in Python\n",
    "\n",
    "## 1. Apa Itu Looping?\n",
    "\n",
    "Looping adalah struktur kontrol yang digunakan untuk mengulangi blok kode tertentu beberapa kali, sampai kondisi tertentu terpenuhi atau sampai perulangan dihentikan secara manual. Python mendukung dua tipe utama looping:\n",
    "1. **For Loop**\n",
    "2. **While Loop**"
   ]
  },
  {
   "cell_type": "markdown",
   "metadata": {
    "vscode": {
     "languageId": "plaintext"
    }
   },
   "source": [
    "## 2. For Loop\n",
    "\n",
    "### Penjelasan:\n",
    "`for` loop digunakan untuk mengulangi suatu blok kode berdasarkan sebuah koleksi, seperti list, string, tuple, atau range (rentang angka).\n",
    "\n",
    "### Sintaks Dasar:\n",
    "```python\n",
    "for variabel in koleksi:\n",
    "    # blok kode yang diulang"
   ]
  },
  {
   "cell_type": "markdown",
   "metadata": {
    "vscode": {
     "languageId": "plaintext"
    }
   },
   "source": [
    "### Contoh:"
   ]
  },
  {
   "cell_type": "code",
   "execution_count": 1,
   "metadata": {},
   "outputs": [
    {
     "name": "stdout",
     "output_type": "stream",
     "text": [
      "apel\n",
      "jeruk\n",
      "mangga\n"
     ]
    }
   ],
   "source": [
    "# Contoh penggunaan for loop untuk mengiterasi list\n",
    "buah = [\"apel\", \"jeruk\", \"mangga\"]\n",
    "\n",
    "for item in buah:\n",
    "    print(item)"
   ]
  },
  {
   "cell_type": "markdown",
   "metadata": {},
   "source": [
    "### Contoh Menggunakan `range()`:\n",
    "Fungsi `range()` digunakan untuk menghasilkan sekumpulan angka."
   ]
  },
  {
   "cell_type": "markdown",
   "metadata": {},
   "source": [
    "#### Contoh 1: Menggunakan `range(end)`:"
   ]
  },
  {
   "cell_type": "code",
   "execution_count": 2,
   "metadata": {},
   "outputs": [
    {
     "name": "stdout",
     "output_type": "stream",
     "text": [
      "Loop ke-0\n",
      "Loop ke-1\n",
      "Loop ke-2\n",
      "Loop ke-3\n",
      "Loop ke-4\n"
     ]
    }
   ],
   "source": [
    "# Contoh for loop dengan range\n",
    "for i in range(5):\n",
    "    print(f\"Loop ke-{i}\")"
   ]
  },
  {
   "cell_type": "markdown",
   "metadata": {},
   "source": [
    "#### Contoh 2: Menggunakan `range(start, end)`:"
   ]
  },
  {
   "cell_type": "code",
   "execution_count": 3,
   "metadata": {},
   "outputs": [
    {
     "name": "stdout",
     "output_type": "stream",
     "text": [
      "Angka: 2\n",
      "Angka: 3\n",
      "Angka: 4\n",
      "Angka: 5\n",
      "Angka: 6\n",
      "Angka: 7\n",
      "Angka: 8\n",
      "Angka: 9\n"
     ]
    }
   ],
   "source": [
    "# Contoh for loop dengan range(start, end)\n",
    "for i in range(2, 10):\n",
    "    print(f\"Angka: {i}\")"
   ]
  },
  {
   "cell_type": "markdown",
   "metadata": {},
   "source": [
    "#### Contoh 3: Menggunakan `range(start, end, step)`:"
   ]
  },
  {
   "cell_type": "code",
   "execution_count": 4,
   "metadata": {},
   "outputs": [
    {
     "name": "stdout",
     "output_type": "stream",
     "text": [
      "Angka dengan step 2: 1\n",
      "Angka dengan step 2: 3\n",
      "Angka dengan step 2: 5\n",
      "Angka dengan step 2: 7\n",
      "Angka dengan step 2: 9\n"
     ]
    }
   ],
   "source": [
    "# Contoh for loop dengan range(start, end, step)\n",
    "for i in range(1, 10, 2):\n",
    "    print(f\"Angka dengan step 2: {i}\")"
   ]
  },
  {
   "cell_type": "markdown",
   "metadata": {},
   "source": [
    "**Penjelasan**: `range(1, 10, 2)` akan menghasilkan urutan angka mulai dari 1 hingga kurang dari 10 dengan lompatan 2 (step 2), yaitu: 1, 3, 5, 7, 9."
   ]
  },
  {
   "cell_type": "markdown",
   "metadata": {},
   "source": [
    "## 3. While Loop\n",
    "\n",
    "### Penjelasan:\n",
    "`while` loop digunakan untuk mengulangi blok kode selama kondisi tertentu bernilai `True`. Loop akan terus berjalan sampai kondisi tersebut bernilai `False`.\n",
    "\n",
    "### Sintaks Dasar:\n",
    "```python\n",
    "while kondisi:\n",
    "    # blok kode yang diulang"
   ]
  },
  {
   "cell_type": "markdown",
   "metadata": {},
   "source": [
    "### Contoh:"
   ]
  },
  {
   "cell_type": "code",
   "execution_count": 5,
   "metadata": {},
   "outputs": [
    {
     "name": "stdout",
     "output_type": "stream",
     "text": [
      "Nilai i adalah 0\n",
      "Nilai i adalah 1\n",
      "Nilai i adalah 2\n",
      "Nilai i adalah 3\n",
      "Nilai i adalah 4\n"
     ]
    }
   ],
   "source": [
    "# Contoh penggunaan while loop\n",
    "i = 0\n",
    "\n",
    "while i < 5:\n",
    "    print(f\"Nilai i adalah {i}\")\n",
    "    i += 1  # Increment nilai i"
   ]
  },
  {
   "cell_type": "markdown",
   "metadata": {},
   "source": [
    "## 4. Loop Control Statements\n",
    "\n",
    "### Penjelasan:\n",
    "Loop control statements digunakan untuk mengubah jalannya loop. Python mendukung tiga jenis control statements dalam loop:\n",
    "- `break`: Menghentikan loop sepenuhnya.\n",
    "- `continue`: Melewati iterasi saat ini dan melanjutkan ke iterasi berikutnya.\n",
    "- `pass`: Tidak melakukan apa-apa, sering digunakan sebagai placeholder."
   ]
  },
  {
   "cell_type": "markdown",
   "metadata": {},
   "source": [
    "### Contoh Penggunaan `break`:"
   ]
  },
  {
   "cell_type": "code",
   "execution_count": 7,
   "metadata": {},
   "outputs": [
    {
     "name": "stdout",
     "output_type": "stream",
     "text": [
      "0\n",
      "1\n",
      "2\n",
      "3\n",
      "4\n"
     ]
    }
   ],
   "source": [
    "# Contoh penggunaan break\n",
    "for i in range(10):\n",
    "    if i == 5:\n",
    "        break  # Loop berhenti ketika i = 5\n",
    "    print(i)"
   ]
  },
  {
   "cell_type": "markdown",
   "metadata": {},
   "source": [
    "### Contoh Penggunaan `continue`:"
   ]
  },
  {
   "cell_type": "code",
   "execution_count": 8,
   "metadata": {},
   "outputs": [
    {
     "name": "stdout",
     "output_type": "stream",
     "text": [
      "1\n",
      "3\n",
      "5\n",
      "7\n",
      "9\n"
     ]
    }
   ],
   "source": [
    "# Contoh penggunaan continue\n",
    "for i in range(10):\n",
    "    if i % 2 == 0:\n",
    "        continue  # Lewati iterasi jika i adalah bilangan genap\n",
    "    print(i)"
   ]
  },
  {
   "cell_type": "markdown",
   "metadata": {},
   "source": [
    "### Contoh penggunaan `pass`:"
   ]
  },
  {
   "cell_type": "code",
   "execution_count": 9,
   "metadata": {},
   "outputs": [
    {
     "name": "stdout",
     "output_type": "stream",
     "text": [
      "0\n",
      "1\n",
      "2\n",
      "3\n",
      "4\n"
     ]
    }
   ],
   "source": [
    "# Contoh penggunaan pass\n",
    "for i in range(5):\n",
    "    if i == 3:\n",
    "        pass  # Tidak melakukan apa-apa\n",
    "    print(i)"
   ]
  },
  {
   "cell_type": "markdown",
   "metadata": {},
   "source": [
    "## 5. Nested Loops (Loop Bersarang)\n",
    "Loop bersarang adalah loop di dalam loop lain. Baik `for` maupun `while` loop bisa saling bersarang."
   ]
  },
  {
   "cell_type": "markdown",
   "metadata": {},
   "source": [
    "### Contoh Nested Loop:"
   ]
  },
  {
   "cell_type": "code",
   "execution_count": 10,
   "metadata": {},
   "outputs": [
    {
     "name": "stdout",
     "output_type": "stream",
     "text": [
      "i = 0, j = 0\n",
      "i = 0, j = 1\n",
      "i = 1, j = 0\n",
      "i = 1, j = 1\n",
      "i = 2, j = 0\n",
      "i = 2, j = 1\n"
     ]
    }
   ],
   "source": [
    "# Contoh penggunaan nested loop\n",
    "for i in range(3):\n",
    "    for j in range(2):\n",
    "        print(f\"i = {i}, j = {j}\")"
   ]
  },
  {
   "cell_type": "markdown",
   "metadata": {},
   "source": [
    "## 6. Contoh Aplikasi Looping: Menghitung Jumlah Bilangan"
   ]
  },
  {
   "cell_type": "code",
   "execution_count": 11,
   "metadata": {},
   "outputs": [
    {
     "name": "stdout",
     "output_type": "stream",
     "text": [
      "Jumlah bilangan dari 1 sampai 10 adalah 55\n"
     ]
    }
   ],
   "source": [
    "# Menghitung jumlah bilangan dari 1 sampai 10\n",
    "total = 0\n",
    "\n",
    "for i in range(1, 11):\n",
    "    total += i  # Menambah i ke dalam total\n",
    "\n",
    "print(f\"Jumlah bilangan dari 1 sampai 10 adalah {total}\")\n"
   ]
  },
  {
   "cell_type": "markdown",
   "metadata": {},
   "source": [
    "## 7. Infinite Loops\n",
    "Loop yang tidak pernah berhenti disebut infinite loop. Hal ini terjadi ketika kondisi loop selalu bernilai `True`."
   ]
  },
  {
   "cell_type": "code",
   "execution_count": null,
   "metadata": {},
   "outputs": [],
   "source": [
    "# Jangan jalankan kode ini - Infinite loop!\n",
    "while True:\n",
    "    print(\"Ini adalah infinite loop\")"
   ]
  }
 ],
 "metadata": {
  "kernelspec": {
   "display_name": "soft-comp-env",
   "language": "python",
   "name": "python3"
  },
  "language_info": {
   "codemirror_mode": {
    "name": "ipython",
    "version": 3
   },
   "file_extension": ".py",
   "mimetype": "text/x-python",
   "name": "python",
   "nbconvert_exporter": "python",
   "pygments_lexer": "ipython3",
   "version": "3.13.0"
  }
 },
 "nbformat": 4,
 "nbformat_minor": 2
}
