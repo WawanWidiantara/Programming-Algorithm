{
 "cells": [
  {
   "cell_type": "markdown",
   "metadata": {},
   "source": [
    "# Variabel dan Tipe Data di Python\n",
    "\n",
    "## 1. Apa itu Variabel?\n",
    "\n",
    "Variabel adalah tempat penyimpanan data yang memiliki nama. Anda bisa menganggapnya sebagai \"label\" untuk nilai tertentu. Dalam Python, variabel dideklarasikan ketika Anda menetapkan nilai ke sebuah nama."
   ]
  },
  {
   "cell_type": "markdown",
   "metadata": {
    "vscode": {
     "languageId": "plaintext"
    }
   },
   "source": [
    "### Contoh:"
   ]
  },
  {
   "cell_type": "code",
   "execution_count": 1,
   "metadata": {},
   "outputs": [
    {
     "name": "stdout",
     "output_type": "stream",
     "text": [
      "Medi 25 1.75\n"
     ]
    }
   ],
   "source": [
    "# Contoh deklarasi variabel\n",
    "nama = \"Medi\"\n",
    "umur = 25\n",
    "tinggi = 1.75\n",
    "\n",
    "print(nama, umur, tinggi)"
   ]
  },
  {
   "cell_type": "markdown",
   "metadata": {},
   "source": [
    "## 2. Tipe Data di Python\n",
    "Python memiliki beberapa tipe data built-in yang dapat digunakan untuk menyimpan berbagai jenis nilai.\n",
    "\n",
    "### 2.1 Tipe Data Dasar:\n",
    "1. **Integer**: Angka bulat, seperti 1, 100, atau -50.\n",
    "2. **Float**: Angka desimal, seperti 1.5 atau 3.14.\n",
    "3. **String**: Sekumpulan karakter, seperti \"Halo, Dunia!\".\n",
    "4. **Boolean**: Hanya memiliki dua nilai: True atau False."
   ]
  },
  {
   "cell_type": "markdown",
   "metadata": {},
   "source": [
    "### Contoh:"
   ]
  },
  {
   "cell_type": "code",
   "execution_count": 2,
   "metadata": {},
   "outputs": [
    {
     "name": "stdout",
     "output_type": "stream",
     "text": [
      "10 10.5 Halo, Dunia! True\n"
     ]
    }
   ],
   "source": [
    "# Contoh berbagai tipe data\n",
    "bilangan_bulat = 10         # Integer\n",
    "bilangan_desimal = 10.5      # Float\n",
    "teks = \"Halo, Dunia!\"        # String\n",
    "benar_salah = True           # Boolean\n",
    "\n",
    "print(bilangan_bulat, bilangan_desimal, teks, benar_salah)"
   ]
  },
  {
   "cell_type": "markdown",
   "metadata": {},
   "source": [
    "## 2.2 Tipe Data Koleksi:\n",
    "Python juga menyediakan tipe data untuk menyimpan beberapa nilai sekaligus:\n",
    "\n",
    "1. **List**: Sekumpulan nilai yang dapat diubah, dinyatakan dengan tanda kurung siku `[]`.\n",
    "2. **Tuple**: Sekumpulan nilai yang tidak dapat diubah, dinyatakan dengan tanda kurung `()`.\n",
    "3. **Dictionary**: Koleksi pasangan key-value, dinyatakan dengan kurung kurawal `{}`."
   ]
  },
  {
   "cell_type": "code",
   "execution_count": 1,
   "metadata": {},
   "outputs": [
    {
     "name": "stdout",
     "output_type": "stream",
     "text": [
      "['apel', 'jeruk', 'mangga']\n",
      "(10, 20)\n",
      "{'nama': 'Medi', 'usia': 25, 'jurusan': 'Teknik Informatika'}\n"
     ]
    }
   ],
   "source": [
    "# List\n",
    "daftar_buah = [\"apel\", \"jeruk\", \"mangga\"]\n",
    "print(daftar_buah)\n",
    "\n",
    "# Tuple\n",
    "koordinat = (10, 20)\n",
    "print(koordinat)\n",
    "\n",
    "# Dictionary\n",
    "data_mahasiswa = {\"nama\": \"Medi\", \"usia\": 25, \"jurusan\": \"Teknik Informatika\"}\n",
    "print(data_mahasiswa)"
   ]
  },
  {
   "cell_type": "markdown",
   "metadata": {},
   "source": [
    "## 3. Mengubah Tipe Data\n",
    "Anda dapat mengubah tipe data dengan fungsi konversi tipe bawaan Python, seperti `int()`, `float()`, `str()`, dan `bool()`."
   ]
  },
  {
   "cell_type": "code",
   "execution_count": 2,
   "metadata": {},
   "outputs": [
    {
     "name": "stdout",
     "output_type": "stream",
     "text": [
      "123 123 123.0\n"
     ]
    }
   ],
   "source": [
    "# Mengubah tipe data\n",
    "x = \"123\"          # String\n",
    "y = int(x)         # Mengubah menjadi Integer\n",
    "z = float(x)       # Mengubah menjadi Float\n",
    "\n",
    "print(x, y, z)     # Output: '123', 123, 123.0"
   ]
  },
  {
   "cell_type": "markdown",
   "metadata": {},
   "source": [
    "## Tips Tambahan\n",
    "- Gunakan `type()` untuk memeriksa tipe data suatu variabel.\n",
    "- Python adalah bahasa yang dinamis, artinya Anda tidak perlu mendefinisikan tipe data variabel secara eksplisit."
   ]
  },
  {
   "cell_type": "code",
   "execution_count": 3,
   "metadata": {},
   "outputs": [
    {
     "name": "stdout",
     "output_type": "stream",
     "text": [
      "<class 'int'> <class 'float'> <class 'str'> <class 'list'>\n"
     ]
    }
   ],
   "source": [
    "# Contoh menggunakan type()\n",
    "a = 10\n",
    "b = 3.14\n",
    "c = \"Halo\"\n",
    "d = [1, 2, 3]\n",
    "\n",
    "print(type(a), type(b), type(c), type(d))"
   ]
  }
 ],
 "metadata": {
  "kernelspec": {
   "display_name": "soft-comp-env",
   "language": "python",
   "name": "python3"
  },
  "language_info": {
   "codemirror_mode": {
    "name": "ipython",
    "version": 3
   },
   "file_extension": ".py",
   "mimetype": "text/x-python",
   "name": "python",
   "nbconvert_exporter": "python",
   "pygments_lexer": "ipython3",
   "version": "3.13.0"
  }
 },
 "nbformat": 4,
 "nbformat_minor": 2
}
